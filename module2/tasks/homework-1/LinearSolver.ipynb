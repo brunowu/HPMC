{
 "cells": [
  {
   "cell_type": "markdown",
   "id": "cd4ba66f-bd4b-44ed-91a4-9c607484e9d9",
   "metadata": {},
   "source": [
    "# Sparse Matrix Application: Conjugate Gradient for Solving Linear Systems\n",
    "\n",
    "Welcome to the first homework for the high-performance computation of sparse matrices! In this work, you'll try to solve symmetric postive-definite sparse linear systems with Conjugate Gradient method.\n",
    "\n",
    "By the end of this homework, you are expected to be able to:\n",
    "\n",
    "- Understand the advantage of compressed storage format of sparse matrix over traditional 2D storage format for Sparse Matrix Vector product operation (SpMV). \n",
    "- Understand the methology to solve linear system by iterative methods, especially Conjugate Gradient (CG).\n",
    "- have a basic knowledge on the preconditioning techniques for iterative methods."
   ]
  },
  {
   "cell_type": "markdown",
   "id": "162017fb-b24e-4123-8d8e-d33797f28328",
   "metadata": {},
   "source": [
    "## Table of Contents\n",
    "- [1 - Packages](#1)\n",
    "- [2 - Test Matrix Collection](#2)\n",
    "- [3 - Basic Conjugate Gradient Method](#3)\n",
    "- [4 - Precondtioned Conjugate Gradient Method](#4)"
   ]
  },
  {
   "cell_type": "markdown",
   "id": "b6026b90-3a16-4a72-be79-bbdbe39cd588",
   "metadata": {},
   "source": [
    "<a name='1'></a>\n",
    "## 1 - Packages"
   ]
  },
  {
   "cell_type": "code",
   "execution_count": null,
   "id": "bbfcd603-658d-4cb2-890c-85279f294a96",
   "metadata": {},
   "outputs": [],
   "source": [
    "using LinearAlgebra\n",
    "using SparseArrays\n",
    "using Printf\n",
    "using Random\n",
    "using BenchmarkTools\n",
    "using TimerOutputs\n",
    "import MatrixDepot\n",
    "import Plots"
   ]
  },
  {
   "cell_type": "markdown",
   "id": "bd9bcc79-b216-4c27-8a6f-0a06eac677bc",
   "metadata": {},
   "source": [
    "If some packages are missing in your Julia environment, use the following cell to install the specific Julia package"
   ]
  },
  {
   "cell_type": "code",
   "execution_count": null,
   "id": "f91cfddf-89de-46a8-8094-4a7ee7567579",
   "metadata": {},
   "outputs": [],
   "source": [
    "#remove the comment for the lines below to install Julia package by yourself\n",
    "#using Pkg\n",
    "#Pkg.add(\"PackageName\")"
   ]
  },
  {
   "cell_type": "code",
   "execution_count": null,
   "id": "4d9d16f7-a4b0-4229-a33e-b19badb8a32a",
   "metadata": {},
   "outputs": [],
   "source": [
    "versioninfo()"
   ]
  },
  {
   "cell_type": "markdown",
   "id": "44289ce4-bfd4-4dcc-b313-de16aa2ff289",
   "metadata": {},
   "source": [
    "<a name='2'></a>\n",
    "## 2 - Test Matrix Collection"
   ]
  },
  {
   "cell_type": "markdown",
   "id": "d22ecc22-42fc-4055-bdf6-ebebb615a51a",
   "metadata": {},
   "source": [
    "[MatrixDepot](https://github.com/JuliaMatrices/MatrixDepot.jl) is a Julia package, which provides an extensible test matrix collection. MatrixDepot provides an easy access to a public matrix collection [SuiteSparse Matrix Collection](https://sparse.tamu.edu/). \n",
    "\n",
    "The *SuiteSparse Matrix Collection* is a large and actively growing set of sparse matrices that arise in real applications. The Collection is widely used by the numerical linear algebra community for the development and performance evaluation of sparse matrix algorithms. The matrices in the Collection cover a wide spectrum of domains, including structural engineering, computational fluid dynamics, material science, acoustics, electromagnetic, thermodynamics, computer graphics and vision ......\n",
    "\n",
    "<center>\n",
    "<img src=\"./figs/SuiteSparsePlots.png\" alt=\"centered image\">\n",
    "</center>\n",
    "<caption><center><font color='purple'><b>Figure 1</b>: Sample Gallery of the SuiteSparse Matrix Collection https://sparse.tamu.edu/about </font></center></caption>\n",
    "\n",
    "A [search engine](http://yifanhu.net/GALLERY/GRAPHS/search.html) is also available which is able to filter required matrices based different criterion. \n",
    "\n",
    "<center>\n",
    "<img src=\"./figs/SuiteSparseSearch.png\" alt=\"centered image\">\n",
    "</center>\n",
    "<caption><center><font color='purple'><b>Figure 2</b>: Search engine for SuiteSparse Matrix Collection http://yifanhu.net/GALLERY/GRAPHS/search.html </font></center></caption>"
   ]
  },
  {
   "cell_type": "markdown",
   "id": "bc4d9dfa-d18a-4a5c-a902-6a391dd79b53",
   "metadata": {},
   "source": [
    "## Load sparse from SuiteSparse Matrix Collection by MatrixDepot\n",
    "\n",
    "MatrixDepot parses the name of matrix from SuiteSparse Matrix Collection through a combination of \"group name\" and \"matrix name\", e.g., \"HB/nos3\" refers to matrix \"nos3\" from the \"HB group\" (Harwell-Boeing collection)."
   ]
  },
  {
   "cell_type": "code",
   "execution_count": null,
   "id": "78d35571-e346-4c2e-972a-0a0bfc1a1045",
   "metadata": {},
   "outputs": [],
   "source": [
    "#define matrix name in the format \"group/matrix\"\n",
    "matname = \"HB/nos3\"\n",
    "#load matrix through MatrixDepot\n",
    "nos3 = MatrixDepot.matrixdepot(matname)\n",
    "#Get information of loaded matrix\n",
    "display(nos3)"
   ]
  },
  {
   "cell_type": "markdown",
   "id": "91aa862d-0e24-47d2-bb5d-5bf66325c250",
   "metadata": {},
   "source": [
    "SuiteSparse Matrix Collection provides also the properties for each matrix, e.g., the number of rows/columns, number of nonzeros, symmetricity, scalar type, condition number, etc. For details about matrix \"HB/nos3\", please visit: https://www.cise.ufl.edu/research/sparse/matrices/HB/nos3.html"
   ]
  },
  {
   "cell_type": "code",
   "execution_count": null,
   "id": "a2fcbab4-2034-4cff-88c3-a0be48a118d5",
   "metadata": {},
   "outputs": [],
   "source": [
    "# Plot the sparsity pattern of loaded matrix\n",
    "Plots.spy(nos3, legend = :none)"
   ]
  },
  {
   "cell_type": "markdown",
   "id": "75845fa1-ac1a-4673-8ef0-75b3c3d2c564",
   "metadata": {},
   "source": [
    "<a name='3'></a>\n",
    "## 3 - Basic Conjugate Gradient Method"
   ]
  },
  {
   "cell_type": "markdown",
   "id": "464507b2-f514-4694-981e-2e667ec07db6",
   "metadata": {},
   "source": [
    "## Implementation of Standard CG\n",
    "\n",
    "We provides a simple implementation of CG as follows. This implementation uses a Julia package [TimerOutputs](https://github.com/KristofferC/TimerOutputs.jl) for recording the timings the different numerical kernels in CG.\n",
    "\n",
    "The basic format of timings by **TimerOutputs** is \n",
    "\n",
    "either:\n",
    "\n",
    "```Julia\n",
    "@timeit Timer \"Kernel name\" {single line code for this kernel}\n",
    "```\n",
    "\n",
    "to record the timings of a single line of code;\n",
    "\n",
    "or:\n",
    "\n",
    "```Julia\n",
    "@timeit Timer \"Code block name\" begin\n",
    "    CODE BLOCK\n",
    "end   \n",
    "```\n",
    "\n",
    "to record the timings of a defined code block.\n",
    "\n",
    "This **timer** is disabled in default. when you first time go through the code, please just ignore these related marcos.\n"
   ]
  },
  {
   "cell_type": "code",
   "execution_count": null,
   "id": "1ecc935b-8611-458c-a49b-9f0906c7cba8",
   "metadata": {},
   "outputs": [],
   "source": [
    "function CG(A, b, x; maxIter = 5000, tol=1e-10, verbosity = 0, timer = false)\n",
    "    \n",
    "    \"\"\"\n",
    "    A first implementation of Conjugate Gradient method to solve Ax=b.\n",
    "    \n",
    "    Arguments:\n",
    "    A -- a sparse matrix of size N x N which determines a linear system\n",
    "    b -- a vector of size N: right-hand side of a linear system\n",
    "    x -- a vector of size N: initial guess solution of a linear system\n",
    "    \n",
    "    Optional:\n",
    "    maxIter -- maximum iterative steps before the convergence criteria is satisfied, default value is 5000\n",
    "    tol -- the convergence criteria, default value is 1e-10\n",
    "    verbosity -- if print the convergence steps (yes, if it is > 0), default value is 0\n",
    "    timer -- boolean value, indicating if recording the timings, default false\n",
    "    \n",
    "    Returns:\n",
    "    x -- a vector of size N, the approximated solution of linear system\n",
    "    errors -- a vector of size \"step\", which includes the convergence errors of solving procedure\n",
    "    \"\"\"\n",
    "    \n",
    "    Timer = TimerOutput()\n",
    "    \n",
    "    if timer\n",
    "       enable_timer!(Timer) \n",
    "    end\n",
    "    \n",
    "    @timeit Timer \"Total\" begin\n",
    "    \n",
    "    @timeit Timer \"SpMV\" r = b - A * x\n",
    "    @timeit Timer \"Copy\" p = r\n",
    "    @timeit Timer \"Dot\" rsold = r' * r\n",
    "    step = 0\n",
    "    errors = zeros(maxIter)\n",
    "    while step < maxIter\n",
    "        step += 1  \n",
    "        @timeit Timer \"SpMV\" Ap = A * p\n",
    "        @timeit Timer \"Dot\" α = rsold / (p' * Ap)\n",
    "        @timeit Timer \"Axpy\" x = x + α .* p \n",
    "        @timeit Timer \"Axpy\" r = r - α .* Ap\n",
    "        @timeit Timer \"Dot\" rsnew = r' * r\n",
    "        errors[step] = sqrt(rsnew) \n",
    "        if verbosity > 0\n",
    "            msg = \"CG: step: $step, resid: \"\n",
    "            msg *= @sprintf(\"%.12e\\n\", errors[step])\n",
    "            printstyled(msg, bold=false, color=:green)\n",
    "        end\n",
    "        \n",
    "        if sqrt(rsnew) < tol\n",
    "            break\n",
    "        end\n",
    "        @timeit Timer \"Axpy\" p = r + (rsnew / rsold) * p\n",
    "        rsold = rsnew\n",
    "    end \n",
    "    end #end Timer \"Total\"\n",
    "    \n",
    "    if timer\n",
    "        show(Timer)\n",
    "    end\n",
    "    return x, errors[1:step]\n",
    "end"
   ]
  },
  {
   "cell_type": "markdown",
   "id": "075f0dde-78e5-4a9e-9536-e9d37839be27",
   "metadata": {},
   "source": [
    "Quesiton:\n",
    "> Please identify the SpMV operation in the above function.\n",
    "\n",
    "Answer:\n",
    "> Put your answer here."
   ]
  },
  {
   "cell_type": "markdown",
   "id": "b02f9988-282d-4f15-8f4b-8d1ae9f8fe4f",
   "metadata": {},
   "source": [
    "## First try with CG\n",
    "\n",
    "We have a first try with CG using \"HB/nos3\" matrix."
   ]
  },
  {
   "cell_type": "code",
   "execution_count": null,
   "id": "3e7aa5dd-8b46-474a-b6ee-440149993957",
   "metadata": {},
   "outputs": [],
   "source": [
    "### Get the row and column number of \"HB/nos3\" matrix\n",
    "M = size(nos3, 1)\n",
    "N = size(nos3, 2)\n",
    "@info \"(Row number, column number): \" M, N\n",
    "@info \"The scalar type of matrix: \" eltype(nos3)"
   ]
  },
  {
   "cell_type": "code",
   "execution_count": null,
   "id": "e832d95c-b33b-48e5-b262-f55bb6ef7f43",
   "metadata": {},
   "outputs": [],
   "source": [
    "## Generate a right-hand side in random which constructs a linear system\n",
    "## together with \"HB/nos3\" matrix\n",
    "b = randn(Float64, N)\n",
    "\n",
    "## Generate a initial guess vector in random\n",
    "x₀ = randn(Float64, N);"
   ]
  },
  {
   "cell_type": "code",
   "execution_count": null,
   "id": "e0ab43f5-4e6a-4d9a-921c-ded6f3c0057f",
   "metadata": {},
   "outputs": [],
   "source": [
    "## Solve defined linear system by CG\n",
    "x, errors = CG(nos3, b, x₀;verbosity = 1);"
   ]
  },
  {
   "cell_type": "code",
   "execution_count": null,
   "id": "aa9e7054-3f68-42c7-9b35-6e65643ee804",
   "metadata": {},
   "outputs": [],
   "source": [
    "#Plot the convergence curve\n",
    "Plots.plot(errors, title = \"Conjugate Grandient solving linear systems\", label = matname, ylabel = \"residual\", xlabel = \"iterations\", yaxis=:log)"
   ]
  },
  {
   "cell_type": "code",
   "execution_count": null,
   "id": "c4095455-1f3f-432a-8f99-8a1498a26065",
   "metadata": {},
   "outputs": [],
   "source": [
    "##Compare the solution with the one of a direct solver\n",
    "x2 = nos3 \\ b\n",
    "@info \"Difference between CG solution and Direct solver solution: \" maximum(abs.(x.-x2))"
   ]
  },
  {
   "cell_type": "markdown",
   "id": "24061232-5259-43cb-839e-e85b93647220",
   "metadata": {},
   "source": [
    "Question: \n",
    "> What is the condition number of \"HB/nos3\"?\n",
    "\n",
    "Answer:\n",
    "> Write your answer here.\n",
    "\n",
    "(Tips: the condition number can be found in the page of each matrix on the website of SuiteSparse Matrix Collection. It is denoted as *cond(A)* on the website.)"
   ]
  },
  {
   "cell_type": "markdown",
   "id": "85aacd57-ad4c-404a-9cdf-16e13641e4a2",
   "metadata": {},
   "source": [
    "## Comparison of CG with Sparse Compressed storage format and 2D format"
   ]
  },
  {
   "cell_type": "markdown",
   "id": "6472999c-2b8b-49e5-af0f-a7763a90aec2",
   "metadata": {},
   "source": [
    "### Benchmark of CG using BenchmarkTools"
   ]
  },
  {
   "cell_type": "code",
   "execution_count": null,
   "id": "38a43455-653b-4b4d-a4b3-ba00a4610f88",
   "metadata": {},
   "outputs": [],
   "source": [
    "### Sparse matrix in CSC format\n",
    "@benchmark CG(nos3, b, x₀)"
   ]
  },
  {
   "cell_type": "code",
   "execution_count": null,
   "id": "0b141a17-992f-4c2d-ae78-93a29c3d24d4",
   "metadata": {},
   "outputs": [],
   "source": [
    "### Sparse matrix in dense 2D format\n",
    "@benchmark CG(Matrix(nos3), b, x₀)"
   ]
  },
  {
   "cell_type": "markdown",
   "id": "a866a307-70dd-461f-a681-6c2f954d5e0e",
   "metadata": {},
   "source": [
    "Question: \n",
    "> How much averaged speedup has been obtained from dense matrix format to sparse matrix format on your laptop?\n",
    "\n",
    "Answer:\n",
    "> Write your answer here."
   ]
  },
  {
   "cell_type": "markdown",
   "id": "3fcd7717-8c25-4c11-b96b-8dbab1689cdd",
   "metadata": {},
   "source": [
    "### Timings of different numerical kernels in CG\n",
    "\n",
    "The **timer** is able to be enabled by explicitly set the optional argument `timer=true`."
   ]
  },
  {
   "cell_type": "code",
   "execution_count": null,
   "id": "00afbd36-6d66-4513-8e94-113ca97c0e78",
   "metadata": {},
   "outputs": [],
   "source": [
    "### Sparse matrix in CSC format\n",
    "CG(nos3, b, x₀; timer=true);"
   ]
  },
  {
   "cell_type": "code",
   "execution_count": null,
   "id": "453bd47a-f582-42bd-b80c-6986e9c3d537",
   "metadata": {},
   "outputs": [],
   "source": [
    "### Sparse matrix in dense 2D format\n",
    "CG(Matrix(nos3), b, x₀; timer=true);"
   ]
  },
  {
   "cell_type": "markdown",
   "id": "06df63cc-edf2-47a4-bfca-e8d77d75dafb",
   "metadata": {},
   "source": [
    "Question: \n",
    "> Compare the two tables of timings above, and describle your observation.\n",
    "\n",
    "Answer:\n",
    "\n",
    "> Write your answer here."
   ]
  },
  {
   "cell_type": "markdown",
   "id": "f9614022-c78b-4286-a30f-fecbf1854c53",
   "metadata": {},
   "source": [
    "<a name='4'></a>\n",
    "## 4 - Precondtioned Conjugate Gradient Method"
   ]
  },
  {
   "cell_type": "markdown",
   "id": "b57557e2-a239-477a-8a20-a363250f45d8",
   "metadata": {},
   "source": [
    "Before the introduce of preconditioned Conjugate Gradient method (PCG), let's at first try solving another linear system by the standard CG."
   ]
  },
  {
   "cell_type": "code",
   "execution_count": null,
   "id": "beedbfd4-95f6-46a9-9b1d-069f6712e8da",
   "metadata": {},
   "outputs": [],
   "source": [
    "matname = \"HB/bcsstk15\"\n",
    "bcsstk15 = MatrixDepot.matrixdepot(matname)\n",
    "bcsstk15d = Matrix(bcsstk15)\n",
    "M = size(bcsstk15, 1)\n",
    "N = size(bcsstk15, 2);\n",
    "#matname = \"Nasa/nasa4704\""
   ]
  },
  {
   "cell_type": "code",
   "execution_count": null,
   "id": "c74ccfe7-7a5a-4b6b-9599-ea8e500db528",
   "metadata": {},
   "outputs": [],
   "source": [
    "b = randn(eltype(bcsstk15), N)\n",
    "x₀ = randn(eltype(bcsstk15), N);\n",
    "x, errors = CG(bcsstk15, b, x₀;verbosity = 0)\n",
    "Plots.plot(errors, title = \"Conjugate Grandient solving linear systems\", label = matname * \":None\", ylabel = \"residual\", xlabel = \"iterations\", yaxis=:log)"
   ]
  },
  {
   "cell_type": "markdown",
   "id": "2929cec9-0c4f-4cf5-98da-a4af59871a48",
   "metadata": {},
   "source": [
    "A quick conclusion:\n",
    "> Standard CG fails to achieve the convergence in 5000 steps for linear system constructed by \"HB/bcsstk15\" matrix.\n",
    "\n",
    "Question:\n",
    "> What is the condition number of \"HB/bcsstk15\" matrix?\n",
    "\n",
    "Answer:\n",
    "> Write your answer here."
   ]
  },
  {
   "cell_type": "markdown",
   "id": "92ece2ae-73f3-49d2-86ac-cf97c445cefa",
   "metadata": {},
   "source": [
    "## Mathematical idea of PCG"
   ]
  },
  {
   "cell_type": "markdown",
   "id": "e5a5114c-874e-4d3a-8181-092841935341",
   "metadata": {},
   "source": [
    "## Implementation of PCG\n",
    "\n",
    "We provides a simple implementation of PCG as follows:"
   ]
  },
  {
   "cell_type": "code",
   "execution_count": null,
   "id": "4cbf988f-455d-4ec9-9e1e-f23786921699",
   "metadata": {},
   "outputs": [],
   "source": [
    "function PCG(A, b, x, M; maxIter = 5000, tol=1e-10, verbosity = 0, timer = false)\n",
    "    \n",
    "    \n",
    "    \"\"\"\n",
    "    A first implementation of Conjugate Gradient method to solve Ax=b.\n",
    "    \n",
    "    Arguments:\n",
    "    A -- a sparse matrix of size N x N which determines a linear system\n",
    "    b -- a vector of size N: right-hand side of a linear system\n",
    "    x -- a vector of size N: initial guess solution of a linear system\n",
    "    M -- a matrix of size N x N, it is the preconditioning matrix to speedup\n",
    "         the convergence of CG. It is constructed externally in different manners.\n",
    "    \n",
    "    Optional:\n",
    "    maxIter -- maximum iterative steps before the convergence criteria is satisfied, default value is 5000\n",
    "    tol -- the convergence criteria, default value is 1e-10\n",
    "    verbosity -- if print the convergence steps (yes, if it is > 0), default value is 0\n",
    "    timer -- boolean value, indicating if recording the timings, default false\n",
    "    \n",
    "    Returns:\n",
    "    x -- a vector of size N, the approximated solution of linear system\n",
    "    errors -- a vector of size \"step\", which includes the convergence errors of solving procedure\n",
    "    \"\"\"\n",
    "    \n",
    "    Timer = TimerOutput()\n",
    "    \n",
    "    if timer\n",
    "       enable_timer!(Timer) \n",
    "    end\n",
    "    \n",
    "    @timeit Timer \"Total\" begin\n",
    "        \n",
    "    @timeit Timer \"SpMV\" r = b - A * x\n",
    "    @timeit Timer \"MV(Precond)\" z = M * r\n",
    "    @timeit Timer \"Copy\" p = z\n",
    "    @timeit Timer \"Dot\" rsold = r' * z\n",
    "    step = 0\n",
    "    errors = zeros(maxIter)\n",
    "    \n",
    "    while step < maxIter\n",
    "        step += 1\n",
    "        @timeit Timer \"SpMV\" Ap = A * p\n",
    "        @timeit Timer \"Dot\" α = rsold / (p' * Ap)\n",
    "        @timeit Timer \"Axpy\" x = x + α * p \n",
    "        @timeit Timer \"Axpy\" r = r - α * Ap\n",
    "        @timeit Timer \"Dot\" errors[step] = sqrt(r'*r)\n",
    "        if verbosity > 0\n",
    "            msg = \"CG: step: $step, resid: \"\n",
    "            msg *= @sprintf(\"%.12e\\n\", errors[step])\n",
    "            printstyled(msg, bold=false, color=:green)\n",
    "        end\n",
    "        \n",
    "        if errors[step] < tol\n",
    "            break\n",
    "        end\n",
    "        @timeit Timer \"MV(Precond)\" z = M * r\n",
    "        @timeit Timer \"Dot\" rsnew = r' * z\n",
    "        @timeit Timer \"Axpy\" p = z + (rsnew / rsold) * p\n",
    "        rsold = rsnew\n",
    "    end \n",
    "        \n",
    "    end #end Timer \"Total\"\n",
    "\n",
    "    if timer\n",
    "       show(Timer) \n",
    "    end\n",
    "    \n",
    "    return x, errors[1:step]\n",
    "end"
   ]
  },
  {
   "cell_type": "markdown",
   "id": "46ae7f95-11ff-499f-a8d0-1afc64b699a0",
   "metadata": {},
   "source": [
    "## Preconditioners\n",
    "### Jacobi Preconditioner\n",
    "\n",
    "The Jacobi preconditioner is one of the simplest forms of preconditioning, in which the preconditioner is chosen to be the diagonal of the matrix $P=diag(A)$.  It is efficient for diagonally dominant matrices."
   ]
  },
  {
   "cell_type": "code",
   "execution_count": null,
   "id": "d9e2cc71-9a8f-4a99-8409-8fb1744c6724",
   "metadata": {},
   "outputs": [],
   "source": [
    "## Construct the Jacobi precontioning matrix as (diag(A))^{-1}\n",
    "PJacobi = inv(Diagonal(bcsstk15d))\n",
    "## Appy the Jacobi preconditioning matrix to PCG\n",
    "x, errors = PCG(bcsstk15, b, x₀, SparseMatrixCSC(PJacobi); verbosity = 0)\n",
    "@info \"Required iteration number with Jacobi preconditioner is: \" size(errors,1)\n",
    "## Add the convergence curve to plot\n",
    "Plots.plot!(errors, title = \"Conjugate Grandient solving linear systems\", label = matname * \":Jacobi\", ylabel = \"residual\", xlabel = \"iterations\", yaxis=:log)"
   ]
  },
  {
   "cell_type": "markdown",
   "id": "15f7127a-a245-4d0b-a0e6-28d729148390",
   "metadata": {},
   "source": [
    "### SSOR Preconditioner\n",
    "\n",
    "In applied mathematics, symmetric successive over-relaxation (SSOR), is a preconditioner. Suppose that an original matrix $A$ is split into diagonal, lower\n",
    "and upper triangular as $A=D+L+U$, then a SSOR preconditioning matrix can be defined as:\n",
    "\n",
    "$$P=(D+L)D^{-1}(D+L)^T$$\n",
    "\n",
    "It can also be parametrised by $\\omega$ as:\n",
    "\n",
    "$$P(\\omega)=\\frac{\\omega}{2-\\omega}(\\frac{1}{\\omega}D+L)D^{-1}(\\frac{1}{\\omega}D+L)^T$$\n",
    "\n",
    "A function to construct the SSOR preconitioning matrix is given as follows:"
   ]
  },
  {
   "cell_type": "code",
   "execution_count": null,
   "id": "533e3982-3bfd-4923-8f91-dda2c57d6bed",
   "metadata": {},
   "outputs": [],
   "source": [
    "function SSOR(A; ω=1)    \n",
    "    \n",
    "    \"\"\"\n",
    "    A first implementation of Conjugate Gradient method to solve Ax=b.\n",
    "    \n",
    "    Arguments:\n",
    "    A -- a sparse matrix of size N x N which determines a linear system\n",
    "    \n",
    "    Optional:\n",
    "    ω -- a scalar: SSOR parameter\n",
    "\n",
    "    Returns:\n",
    "    M -- a N x N preconditioning matrix\n",
    "    \"\"\"\n",
    "    \n",
    "    n = size(A, 1)\n",
    "    Ad = Matrix(A)\n",
    "    D = LinearAlgebra.Diagonal(Ad)\n",
    "    L = LinearAlgebra.LowerTriangular(Ad)\n",
    "\n",
    "    #M = (D + ω * L) * inv(D) * (D + ω * U)\n",
    "    M = (ω/(2-ω)) .* ((1/ω) .* D + L) * inv(D) * ((1/ω) .* D + L)'\n",
    "    return M\n",
    "end"
   ]
  },
  {
   "cell_type": "code",
   "execution_count": null,
   "id": "ad11d53d-682c-4123-8b3d-6bd5caafe3d5",
   "metadata": {},
   "outputs": [],
   "source": [
    "## Construct the SSOR precontioning matrix by function SSOR(A; ω=1.8)\n",
    "ω = 1.8\n",
    "PSSOR = inv(SSOR(bcsstk15d; ω=ω))\n",
    "## Appy the SSOR preconditioning matrix to PCG\n",
    "x, errors = PCG(bcsstk15, b, x₀, PSSOR; verbosity = 0)\n",
    "@info \"Required iteration number with SSOR preconditioner is: \" size(errors,1)\n",
    "## Add the convergence curve to plot\n",
    "Plots.plot!(errors, title = \"Conjugate Grandient solving linear systems\", label = matname * \":SSOR\", ylabel = \"residual\", xlabel = \"iterations\", yaxis=:log)"
   ]
  },
  {
   "cell_type": "markdown",
   "id": "2ea089ea-0fb5-4a4e-b1a9-1a587a7c09ff",
   "metadata": {},
   "source": [
    "### Timings of different preconditioners"
   ]
  },
  {
   "cell_type": "code",
   "execution_count": null,
   "id": "e30708a9-fbde-4308-ba4f-f52e4381ea05",
   "metadata": {},
   "outputs": [],
   "source": [
    "CG(bcsstk15, b, x₀;verbosity = 0, timer=true);\n",
    "\n",
    "PCG(bcsstk15, b, x₀, SparseMatrixCSC(PJacobi); verbosity = 0, timer=true);\n",
    "\n",
    "PCG(bcsstk15, b, x₀, PSSOR; verbosity = 0, timer=true);"
   ]
  },
  {
   "cell_type": "code",
   "execution_count": null,
   "id": "4811b24d-0fa2-4194-a7b4-771ba827e135",
   "metadata": {},
   "outputs": [],
   "source": [
    "@info \"Sparsity of Jacobi preconditioning matrix\" nnz(SparseMatrixCSC(PJacobi)) / (N * N)\n",
    "@info \"Sparsity of SSOR preconditioning matrix\" nnz(SparseMatrixCSC(PSSOR)) / (N * N)"
   ]
  },
  {
   "cell_type": "markdown",
   "id": "bf346597-40ec-4216-8b88-67a842a472aa",
   "metadata": {},
   "source": [
    "Question:\n",
    "> Describe your observations by comparing the above three tables\n",
    "\n",
    "Answer:\n",
    "> Write your answer here.\n",
    "\n",
    "(Tips: Considering the sparsity of different preconditioning matrix)"
   ]
  },
  {
   "cell_type": "markdown",
   "id": "ebe11cc6-601d-4456-9801-0e0a0d7d5915",
   "metadata": {},
   "source": [
    "### Condition number of preconditioned linear system\n",
    "\n",
    "The PCG with precondtioning matrix M is equivalent to applying the conjugate gradient method without preconditioning to the system\n",
    "$$L^{-1}A(L^{-1})^T\\hat{x} = L^{-1}b$$\n",
    "\n",
    "where \n",
    "$$LL^T = M, \\quad \\hat{x} = E^Tx$$\n",
    "\n",
    "Thus the condition number of preconditioned linear system is:\n",
    "\n",
    "$$cond(L^{-1}A(L^{-1})^T)$$"
   ]
  },
  {
   "cell_type": "markdown",
   "id": "93c4f103-618b-406b-adbf-164417958ae1",
   "metadata": {},
   "source": [
    "#### Condition number of Jacobi preconditioned linear system"
   ]
  },
  {
   "cell_type": "code",
   "execution_count": null,
   "id": "cddb2284-2edc-4dff-989f-e13dad59ea58",
   "metadata": {},
   "outputs": [],
   "source": [
    "LJacobi = sqrt.(Diagonal(bcsstk15d))\n",
    "@info \"Condition number of Jacobi preconditioned linear system\" cond(inv(LJacobi) * bcsstk15d * (inv(LJacobi))' )"
   ]
  },
  {
   "cell_type": "markdown",
   "id": "cba68f18-c25f-43ba-9465-70bd4bc99ab7",
   "metadata": {},
   "source": [
    "#### Condition number of SSOR preconditioned linear system"
   ]
  },
  {
   "cell_type": "code",
   "execution_count": null,
   "id": "f5d7a126-2a96-4cca-b057-2fd124382524",
   "metadata": {},
   "outputs": [],
   "source": [
    "DSSOR = LinearAlgebra.Diagonal(bcsstk15d)\n",
    "LSSOR = LinearAlgebra.LowerTriangular(bcsstk15d)\n",
    "LSSOR = sqrt(ω/(2-ω)) .* ((1/ω) .* DSSOR + LSSOR) * sqrt.((inv(DSSOR)))\n",
    "@info \"Condition number of SSOR preconditioned linear system\" cond(inv(LSSOR) * bcsstk15d * (inv(LSSOR))' ) "
   ]
  },
  {
   "cell_type": "markdown",
   "id": "f4be325c-d2ff-4acf-a0c5-dafc61bbc96c",
   "metadata": {},
   "source": [
    "ToDo: Please fill in the table below with the previously obtained data\n",
    "\n",
    "| HB/bcsstk15 | None | Jacobi | SSOR |\n",
    "| :------: | :------: | :------: | :------: |\n",
    "|Iteration number||||\n",
    "|Condition number||||\n",
    "|Total Time(s)||||\n",
    "|SpMV Time(s)||||\n",
    "|MV(Precond) ||||"
   ]
  },
  {
   "cell_type": "markdown",
   "id": "13702a27-0642-472c-8f56-41be5193b07c",
   "metadata": {},
   "source": [
    "## Play with more matrices"
   ]
  },
  {
   "cell_type": "markdown",
   "id": "4f6bb87d-d31b-4a34-aa03-485edb7525bf",
   "metadata": {},
   "source": [
    "### Matrix: Nasa/nasa4704"
   ]
  },
  {
   "cell_type": "code",
   "execution_count": null,
   "id": "fd3e76ed-aa87-4c87-b215-ee36fdbe3112",
   "metadata": {},
   "outputs": [],
   "source": [
    "matname = \"Nasa/nasa4704\"\n",
    "\n",
    "verb = 0\n",
    "\n",
    "nasa4704 = MatrixDepot.matrixdepot(matname)\n",
    "nasa4704d = Matrix(nasa4704)\n",
    "M = size(nasa4704, 1)\n",
    "N = size(nasa4704, 2);\n",
    "\n",
    "b = randn(eltype(nasa4704), N)\n",
    "x₀ = randn(eltype(nasa4704), N);\n",
    "\n",
    "#standard CG\n",
    "x, errors = CG(nasa4704, b, x₀;verbosity = verb)\n",
    "@info \"Required iteration number without preconditioner is: \" size(errors,1)\n",
    "Plots.plot(errors, title = \"Conjugate Grandient solving linear systems\", label = matname * \":None\", ylabel = \"residual\", xlabel = \"iterations\", yaxis=:log)"
   ]
  },
  {
   "cell_type": "code",
   "execution_count": null,
   "id": "6badb6a7-2ba0-454b-81e8-e2a5829bf27f",
   "metadata": {},
   "outputs": [],
   "source": [
    "## Construct the Jacobi precontioning matrix as (diag(A))^{-1}\n",
    "PJacobi = inv(Diagonal(nasa4704d))\n",
    "## Appy the Jacobi preconditioning matrix to PCG\n",
    "x, errors = PCG(nasa4704, b, x₀, SparseMatrixCSC(PJacobi); verbosity = verb)\n",
    "@info \"Required iteration number with Jacobi preconditioner is: \" size(errors,1)\n",
    "Plots.plot!(errors, title = \"Conjugate Grandient solving linear systems\", label = matname * \":Jacobi\", ylabel = \"residual\", xlabel = \"iterations\", yaxis=:log)"
   ]
  },
  {
   "cell_type": "code",
   "execution_count": null,
   "id": "ba5353c4-21fd-4c54-9199-6bc18c862dd5",
   "metadata": {},
   "outputs": [],
   "source": [
    "## Construct the SSOR precontioning matrix by function SSOR(A; ω=1.8)\n",
    "ω = 1.8\n",
    "PSSOR = inv(SSOR(nasa4704d; ω=ω))\n",
    "\n",
    "## Appy the SSOR preconditioning matrix to PCG\n",
    "x, errors = PCG(nasa4704, b, x₀, PSSOR; verbosity = verb)\n",
    "@info \"Required iteration number with SSOR preconditioner is: \" size(errors,1)\n",
    "Plots.plot!(errors, title = \"Conjugate Grandient solving linear systems\", label = matname * \":SSOR\", ylabel = \"residual\", xlabel = \"iterations\", yaxis=:log)"
   ]
  },
  {
   "cell_type": "code",
   "execution_count": null,
   "id": "3522b616-c8c2-49e2-b35e-c0708a424c4f",
   "metadata": {},
   "outputs": [],
   "source": [
    "## recording timings for diferent kernels\n",
    "CG(nasa4704, b, x₀;verbosity = 0, timer=true);\n",
    "\n",
    "PCG(nasa4704, b, x₀, SparseMatrixCSC(PJacobi); verbosity = 0, timer=true);\n",
    "\n",
    "PCG(nasa4704, b, x₀, PSSOR; verbosity = 0, timer=true);"
   ]
  },
  {
   "cell_type": "code",
   "execution_count": null,
   "id": "3bcc93ff-3daf-4d12-8029-5600731e4735",
   "metadata": {},
   "outputs": [],
   "source": [
    "## Compute condition number of precondtioned linear system\n",
    "LJacobi = sqrt.(Diagonal(nasa4704d))\n",
    "@info \"Condition number of Jacobi preconditioned linear system\" cond(inv(LJacobi) * nasa4704d * (inv(LJacobi))' )\n",
    "\n",
    "DSSOR = LinearAlgebra.Diagonal(nasa4704d)\n",
    "LSSOR = LinearAlgebra.LowerTriangular(nasa4704d)\n",
    "LSSOR = sqrt(ω/(2-ω)) .* ((1/ω) .* DSSOR + LSSOR) * sqrt.((inv(DSSOR)))\n",
    "@info \"Condition number of SSOR preconditioned linear system\" cond(inv(LSSOR) * nasa4704d * (inv(LSSOR))' ) "
   ]
  },
  {
   "cell_type": "markdown",
   "id": "ae7fa2ba-c569-461c-9bd1-95217e7c39e5",
   "metadata": {},
   "source": [
    "ToDo: Please fill in the table below with the previously obtained data\n",
    "\n",
    "| Nasa/nasa4704 | None | Jacobi | SSOR |\n",
    "| :------: | :------: | :------: | :------: |\n",
    "|Iteration number||||\n",
    "|Condition number||||\n",
    "|Total Time(s)||||\n",
    "|SpMV Time(s)||||\n",
    "|MV(Precond) ||||"
   ]
  },
  {
   "cell_type": "markdown",
   "id": "d19cb728-6ad4-40f0-bfa1-841b1a1aa7a1",
   "metadata": {},
   "source": [
    "### Matrix: Boeing/crystm01"
   ]
  },
  {
   "cell_type": "code",
   "execution_count": null,
   "id": "97285657-913e-4b52-b36e-7e15d1aa7c60",
   "metadata": {},
   "outputs": [],
   "source": [
    "matname = \"Boeing/crystm01\"\n",
    "\n",
    "verb = 0\n",
    "\n",
    "crystm01= MatrixDepot.matrixdepot(matname)\n",
    "crystm01d = Matrix(crystm01)\n",
    "M = size(crystm01, 1)\n",
    "N = size(crystm01, 2);\n",
    "\n",
    "b = randn(eltype(crystm01), N)\n",
    "x₀ = randn(eltype(crystm01), N);"
   ]
  },
  {
   "cell_type": "code",
   "execution_count": null,
   "id": "b5724398-e49e-462e-80f0-8eeb3f19a3d7",
   "metadata": {},
   "outputs": [],
   "source": [
    "#standard CG\n",
    "x, errors = CG(crystm01, b, x₀;verbosity = verb)\n",
    "@info \"Required iteration number without preconditioner is: \" size(errors,1)\n",
    "Plots.plot(errors, title = \"Conjugate Grandient solving linear systems\", label = matname * \":None\", ylabel = \"residual\", xlabel = \"iterations\", yaxis=:log)"
   ]
  },
  {
   "cell_type": "code",
   "execution_count": null,
   "id": "039228ae-2a55-42c4-9531-cf82ae22c87f",
   "metadata": {},
   "outputs": [],
   "source": [
    "## Construct the Jacobi precontioning matrix as (diag(A))^{-1}\n",
    "PJacobi = inv(Diagonal(crystm01d))\n",
    "## Appy the Jacobi preconditioning matrix to PCG\n",
    "x, errors = PCG(crystm01, b, x₀, PJacobi; verbosity = verb)\n",
    "@info \"Required iteration number with Jacobi preconditioner is: \" size(errors,1)\n",
    "Plots.plot!(errors, title = \"Conjugate Grandient solving linear systems\", label = matname * \":Jacobi\", ylabel = \"residual\", xlabel = \"iterations\", yaxis=:log)"
   ]
  },
  {
   "cell_type": "code",
   "execution_count": null,
   "id": "ec162e7c-85f7-47a6-9897-1f35ad546722",
   "metadata": {},
   "outputs": [],
   "source": [
    "## Construct the SSOR precontioning matrix by function SSOR(A; ω=1.8)\n",
    "ω = 1.8\n",
    "PSSOR = inv(SSOR(crystm01d; ω=ω))\n",
    "\n",
    "## Appy the SSOR preconditioning matrix to PCG\n",
    "x, errors = PCG(crystm01, b, x₀, PSSOR; verbosity = verb)\n",
    "@info \"Required iteration number with SSOR preconditioner is: \" size(errors,1)\n",
    "Plots.plot!(errors, title = \"Conjugate Grandient solving linear systems\", label = matname * \":SSOR\", ylabel = \"residual\", xlabel = \"iterations\", yaxis=:log)"
   ]
  },
  {
   "cell_type": "code",
   "execution_count": null,
   "id": "08d9c9e6-b39d-49a8-affe-5c756fc5c132",
   "metadata": {},
   "outputs": [],
   "source": [
    "## recording timings for diferent kernels\n",
    "CG(crystm01, b, x₀;verbosity = 0, timer=true);\n",
    "\n",
    "PCG(crystm01, b, x₀, SparseMatrixCSC(PJacobi); verbosity = 0, timer=true);\n",
    "\n",
    "PCG(crystm01, b, x₀, PSSOR; verbosity = 0, timer=true);"
   ]
  },
  {
   "cell_type": "code",
   "execution_count": null,
   "id": "c50ab3ec-9658-4ba5-b003-b7418078b304",
   "metadata": {},
   "outputs": [],
   "source": [
    "## Compute condition number of precondtioned linear system\n",
    "LJacobi = sqrt.(Diagonal(crystm01d))\n",
    "@info \"Condition number of Jacobi preconditioned linear system\" cond(inv(LJacobi) * crystm01d * (inv(LJacobi))' )\n",
    "\n",
    "DSSOR = LinearAlgebra.Diagonal(crystm01d)\n",
    "LSSOR = LinearAlgebra.LowerTriangular(crystm01d)\n",
    "LSSOR = sqrt(ω/(2-ω)) .* ((1/ω) .* DSSOR + LSSOR) * sqrt.((inv(DSSOR)))\n",
    "@info \"Condition number of SSOR preconditioned linear system\" cond(inv(LSSOR) * crystm01d * (inv(LSSOR))' ) "
   ]
  },
  {
   "cell_type": "markdown",
   "id": "d744df75-07de-44b4-9e5d-f4a72628b2f3",
   "metadata": {},
   "source": [
    "ToDo: Please fill in the table below with the previously obtained data\n",
    "\n",
    "| Boeing/crystm01 | None | Jacobi | SSOR |\n",
    "| :------: | :------: | :------: | :------: |\n",
    "|Iteration number||||\n",
    "|Condition number||||\n",
    "|Total Time(s)||||\n",
    "|SpMV Time(s)||||\n",
    "|MV(Precond) ||||"
   ]
  },
  {
   "cell_type": "markdown",
   "id": "368e1643-ab38-42a8-b217-20c93a486736",
   "metadata": {},
   "source": [
    "### Matrix: Bai/mhd3200b"
   ]
  },
  {
   "cell_type": "code",
   "execution_count": null,
   "id": "082cc405-c519-4d04-8a16-7318721560b2",
   "metadata": {},
   "outputs": [],
   "source": [
    "matname = \"Bai/mhd3200b\"\n",
    "\n",
    "verb = 0\n",
    "\n",
    "mhd3200b = MatrixDepot.matrixdepot(matname)\n",
    "mhd3200bd = Matrix(mhd3200b)\n",
    "M = size(mhd3200b, 1)\n",
    "N = size(mhd3200b, 2);\n",
    "\n",
    "b = randn(eltype(mhd3200b), N)\n",
    "x₀ = randn(eltype(mhd3200b), N);"
   ]
  },
  {
   "cell_type": "code",
   "execution_count": null,
   "id": "0e3b5eda-6701-4e02-bd2e-c381c9df2cbd",
   "metadata": {},
   "outputs": [],
   "source": [
    "#standard CG\n",
    "x, errors = CG(mhd3200b, b, x₀;verbosity = verb)\n",
    "@info \"Required iteration number without preconditioner is: \" size(errors,1)\n",
    "Plots.plot(errors, title = \"Conjugate Grandient solving linear systems\", label = matname * \":None\", ylabel = \"residual\", xlabel = \"iterations\", yaxis=:log)"
   ]
  },
  {
   "cell_type": "code",
   "execution_count": null,
   "id": "27ddae16-dfe0-4735-8b2d-a77775e00e2d",
   "metadata": {},
   "outputs": [],
   "source": [
    "## Construct the Jacobi precontioning matrix as (diag(A))^{-1}\n",
    "PJacobi = inv(Diagonal(mhd3200bd))\n",
    "## Appy the Jacobi preconditioning matrix to PCG\n",
    "x, errors = PCG(mhd3200b, b, x₀, PJacobi; verbosity = verb)\n",
    "@info \"Required iteration number with Jacobi preconditioner is: \" size(errors,1)\n",
    "Plots.plot!(errors, title = \"Conjugate Grandient solving linear systems\", label = matname * \":Jacobi\", ylabel = \"residual\", xlabel = \"iterations\", yaxis=:log)"
   ]
  },
  {
   "cell_type": "code",
   "execution_count": null,
   "id": "87339e66-a03a-4f8b-ad82-8aa2d47b6089",
   "metadata": {},
   "outputs": [],
   "source": [
    "## Construct the SSOR precontioning matrix by function SSOR(A; ω=1.8)\n",
    "ω = 1.8\n",
    "PSSOR = inv(SSOR(mhd3200bd; ω=ω))\n",
    "\n",
    "## Appy the SSOR preconditioning matrix to PCG\n",
    "x, errors = PCG(mhd3200b, b, x₀, PSSOR; verbosity = verb)\n",
    "@info \"Required iteration number with SSOR preconditioner is: \" size(errors,1)\n",
    "Plots.plot!(errors, title = \"Conjugate Grandient solving linear systems\", label = matname * \":SSOR\", ylabel = \"residual\", xlabel = \"iterations\", yaxis=:log)"
   ]
  },
  {
   "cell_type": "code",
   "execution_count": null,
   "id": "56cbe8eb-f9d9-425b-a682-8353cb4a8a4f",
   "metadata": {},
   "outputs": [],
   "source": [
    "## recording timings for diferent kernels\n",
    "CG(mhd3200bd, b, x₀;verbosity = 0, timer=true);\n",
    "\n",
    "PCG(mhd3200bd, b, x₀, SparseMatrixCSC(PJacobi); verbosity = 0, timer=true);\n",
    "\n",
    "PCG(mhd3200bd, b, x₀, PSSOR; verbosity = 0, timer=true);"
   ]
  },
  {
   "cell_type": "code",
   "execution_count": null,
   "id": "c638e9cc-7ee0-41a6-90a4-119517ed217f",
   "metadata": {},
   "outputs": [],
   "source": [
    "## Compute condition number of precondtioned linear system\n",
    "LJacobi = sqrt.(Diagonal(mhd3200bd))\n",
    "@info \"Condition number of Jacobi preconditioned linear system\" cond(inv(LJacobi) * mhd3200bd * (inv(LJacobi))' )\n",
    "\n",
    "DSSOR = LinearAlgebra.Diagonal(mhd3200bd)\n",
    "LSSOR = LinearAlgebra.LowerTriangular(mhd3200bd)\n",
    "LSSOR = sqrt(ω/(2-ω)) .* ((1/ω) .* DSSOR + LSSOR) * sqrt.((inv(DSSOR)))\n",
    "@info \"Condition number of SSOR preconditioned linear system\" cond(inv(LSSOR) * mhd3200bd * (inv(LSSOR))' ) "
   ]
  },
  {
   "cell_type": "markdown",
   "id": "a9345dd8-3cf1-49b8-84cc-43bf831b68ed",
   "metadata": {},
   "source": [
    "ToDo: Please fill in the table below with the previously obtained data\n",
    "\n",
    "| Bai/mhd3200b | None | Jacobi | SSOR |\n",
    "| :------: | :------: | :------: | :------: |\n",
    "|Iteration number||||\n",
    "|Condition number||||\n",
    "|Total Time(s)||||\n",
    "|SpMV Time(s)||||\n",
    "|MV(Precond) ||||"
   ]
  },
  {
   "cell_type": "markdown",
   "id": "f5b34dbf-45a5-4021-88be-4bf8ff8f8d2f",
   "metadata": {},
   "source": [
    "Question 1:\n",
    "> Can you explain the relation between the condition number and convergence behaviour?\n",
    "\n",
    "Answer:\n",
    "> Write your answer here."
   ]
  },
  {
   "cell_type": "markdown",
   "id": "cf332d38-04d6-402f-97a5-ac16fcdaf75e",
   "metadata": {},
   "source": [
    "Question 2:\n",
    "> Please try to summarize the strategy to select different preconditioners (or without preconditioning).\n",
    "\n",
    "Answer:\n",
    "> Write your answer here.\n",
    "\n",
    "(Tips: please consider the tradeoff between convergence behaviour and time-to-solution.)"
   ]
  },
  {
   "cell_type": "code",
   "execution_count": null,
   "id": "39fdf43b-3b74-40fa-b707-efc14c397bd1",
   "metadata": {},
   "outputs": [],
   "source": []
  }
 ],
 "metadata": {
  "kernelspec": {
   "display_name": "Julia 1.4.2",
   "language": "julia",
   "name": "julia-1.4"
  },
  "language_info": {
   "file_extension": ".jl",
   "mimetype": "application/julia",
   "name": "julia",
   "version": "1.4.2"
  }
 },
 "nbformat": 4,
 "nbformat_minor": 5
}
