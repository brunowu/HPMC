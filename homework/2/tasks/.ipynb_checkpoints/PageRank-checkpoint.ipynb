{
 "cells": [
  {
   "cell_type": "markdown",
   "id": "f29051be-ad90-434e-ba84-9eaf2fdcc3bd",
   "metadata": {},
   "source": [
    "# Sparse Matrix Application: PageRank Algorithm \n",
    "\n",
    "Welcome to the second homework for the high-performance computation of sparse matrices! In this work, you'll try to mesure the importance of webpages through a power iteration method.\n",
    "\n",
    "By the end of this homework, you are expected to be able to:\n",
    "\n",
    "- Construct sparse adjacency matrices starting from a given directed graph of webpages\n",
    "- Reduce constructed adjacency matrix to be stochastic\n",
    "- Solve the PageRank problem through power iteration method whose kernel is Sparse Matrix Vector operation (SpMV)\n",
    "- Understand the impact of dampling factor"
   ]
  },
  {
   "cell_type": "markdown",
   "id": "a5c7dc0c-b57b-4c92-9105-7f9de46639eb",
   "metadata": {},
   "source": [
    "## Table of Contents\n",
    "- [1 - Packages](#1)\n",
    "- [2 - Problem Statement](#2)\n",
    "- [3 - Construct Adjacency Matrix](#3)\n",
    "- [4 - Reduce Adjacency Matrix to be Stochastic](#4)\n",
    "- [5 - A simple PageRank](#5)\n",
    "- [6 - PageRank with Damping](#6)"
   ]
  },
  {
   "cell_type": "markdown",
   "id": "cd1adb43-1cb4-4217-ab81-83f921cc0ec8",
   "metadata": {},
   "source": [
    "<a name='1'></a>\n",
    "## 1 - Packages"
   ]
  },
  {
   "cell_type": "code",
   "execution_count": 1,
   "id": "f2a8afdf-376e-4146-9224-a7ee297fb67c",
   "metadata": {},
   "outputs": [],
   "source": [
    "using LinearAlgebra\n",
    "using SparseArrays\n",
    "using Printf\n",
    "using Random\n",
    "using BenchmarkTools\n",
    "import Plots"
   ]
  },
  {
   "cell_type": "markdown",
   "id": "14710342-428c-4fcf-95dc-cbb0f2c3c588",
   "metadata": {},
   "source": [
    "<a name='2'></a>\n",
    "## 2 - Problem Statement"
   ]
  },
  {
   "cell_type": "markdown",
   "id": "556c8027-ed67-4a28-a27e-d117f39eccc8",
   "metadata": {},
   "source": [
    "PageRank (PR) is an algorithm used by Google Search to rank web pages in their search engine results, which is a way of measuring the importance of website pages. \n",
    "\n",
    "According to Wikipedia:\n",
    "> PageRank works by counting the number and quality of links to a page to determine a rough estimate of how important the website is. The underlying assumption is that more important websites are likely to receive more links from other websites. [[1]](https://en.wikipedia.org/wiki/PageRank)\n",
    "\n",
    "PageRank is introduced by the co-founder of Google [Larray Page](https://en.wikipedia.org/wiki/Larry_Page). It is named after both the term of \"web page\" and the last name of Larray Page. PageRank is the first and one of the best known algorithm that was used by Google.\n",
    "\n",
    "The figure below is a simple example of webgraph which shows the relations of 5 different webpages as a directed graph:\n",
    "- Nodes: webpages\n",
    "- Edges: hyperlinks\n",
    "- Weights: vote from one link to another"
   ]
  },
  {
   "cell_type": "markdown",
   "id": "4c40be89-7583-46b5-be90-b5a9335db9c4",
   "metadata": {},
   "source": [
    "<center>\n",
    "<img src=\"../figs/simplegraph.png\" alt=\"centered image\">\n",
    "</center>\n",
    "<caption><center><font color='purple'><b>Figure 1</b>: a simple Webgraph </font></center></caption>"
   ]
  },
  {
   "cell_type": "markdown",
   "id": "e13f0d01-f977-4b89-8f33-2af4b4a30d5e",
   "metadata": {},
   "source": [
    "Not all web pages are equally \"important\". For example:\n",
    "\n",
    "- https://www.bbc.com (BBC)\n",
    "\n",
    "vs\n",
    "\n",
    "- https://brunowu.github.io (My personal webpage)\n",
    "\n",
    "There is a large diversity in the web-graph node connectivity, and the idea of PageRank is to rank pages by their link structure (webgraph). \n",
    "\n",
    "Roughly saying, the idea behand is\n",
    "> Links as votes\n",
    "\n",
    "Page is more important if it has more in-links. And the votes for all links in the webpage can be determined with a recursive step.\n",
    "\n",
    "A \"rank score\" $r_j$ of a webpage $j$\n",
    "$$r_j = \\sum_{i\\rightarrow j}\\frac{r_i}{d_i} \\tag{1}$$\n",
    "\n",
    "in which $i$ represents the indices of all webpages which are linked to the webpage $j$, and $d_i$ refers to the degree of out-links of the webpage $i$. \n",
    "\n",
    "In the next section, we will at first construct a matrix describing the webgraph."
   ]
  },
  {
   "cell_type": "markdown",
   "id": "8cd70f8e-41d2-4b30-8055-6a36b8cdbe20",
   "metadata": {},
   "source": [
    "<a name='3'></a>\n",
    "## 3 - Construct Adjacency Matrix"
   ]
  },
  {
   "cell_type": "markdown",
   "id": "189de44b-1f5d-4ebc-bc41-68b20d143493",
   "metadata": {},
   "source": [
    "An adjacency matrix is a square matrix used to represent a finite graph. The elements of the matrix indicate whether pairs of vertices are adjacent or not in the graph. For a simple graph, the adjacency matrix is a (0,1)-matrix with its elements either being 1 or 0. \n",
    "\n",
    "The objective of this section is to construct this simple adjacency matrix for the webgraph given as below:\n",
    "\n",
    "<center>\n",
    "<img src=\"../figs/graph2.png\" alt=\"centered image\">\n",
    "</center>\n",
    "<caption><center><font color='purple'><b>Figure 2</b>: Webgraph 1 </font></center></caption>"
   ]
  },
  {
   "cell_type": "markdown",
   "id": "a172a5cf-14c8-4a5c-ae2b-eb85276df623",
   "metadata": {},
   "source": [
    "### Initialization"
   ]
  },
  {
   "cell_type": "code",
   "execution_count": 2,
   "id": "3c153d10-e41e-4199-88f6-f1889d9e158c",
   "metadata": {},
   "outputs": [
    {
     "name": "stderr",
     "output_type": "stream",
     "text": [
      "┌ Info: 4×4 SparseMatrixCSC{Float64,Int64} with 0 stored entries\n",
      "└ @ Main In[2]:5\n"
     ]
    }
   ],
   "source": [
    "# The number of nodes of the webgraph above is:\n",
    "N = 4\n",
    "# Create a empty Sparse Matrix object in Julia of size N*N\n",
    "A₁ = spzeros(Float64, N, N)\n",
    "@info A₁"
   ]
  },
  {
   "cell_type": "markdown",
   "id": "70ebf86b-066f-44fc-8211-a81d906c900e",
   "metadata": {},
   "source": [
    "### Construction\n",
    "For a adjacency matrix $M$, its element $M_{ij}$ refers the connection of hyperlink from the node $j$ to the node $i$. If $M_{ij}=0$, it means that there is no connection from the node $j$ to $i$, and if $M_{ij}=1$, it refers to an existence of hyperlink from the node $j$ to $i$."
   ]
  },
  {
   "cell_type": "code",
   "execution_count": 3,
   "id": "c9f0f030-27a5-4239-a2cf-eb0dffff996c",
   "metadata": {},
   "outputs": [
    {
     "data": {
      "text/plain": [
       "4×4 SparseMatrixCSC{Float64,Int64} with 8 stored entries:\n",
       "  [2, 1]  =  1.0\n",
       "  [3, 1]  =  1.0\n",
       "  [4, 1]  =  1.0\n",
       "  [3, 2]  =  1.0\n",
       "  [4, 2]  =  1.0\n",
       "  [1, 3]  =  1.0\n",
       "  [1, 4]  =  1.0\n",
       "  [3, 4]  =  1.0"
      ]
     },
     "metadata": {},
     "output_type": "display_data"
    },
    {
     "data": {
      "text/plain": [
       "4×4 Array{Float64,2}:\n",
       " 0.0  0.0  1.0  1.0\n",
       " 1.0  0.0  0.0  0.0\n",
       " 1.0  1.0  0.0  1.0\n",
       " 1.0  1.0  0.0  0.0"
      ]
     },
     "metadata": {},
     "output_type": "display_data"
    },
    {
     "name": "stderr",
     "output_type": "stream",
     "text": [
      "┌ Info: the number of non-zero elements is:\n",
      "│   nnz(A₁) = 8\n",
      "└ @ Main In[3]:18\n",
      "┌ Info: the sparsity is:\n",
      "│   nnz(A₁) / (N * N) = 0.5\n",
      "└ @ Main In[3]:19\n"
     ]
    }
   ],
   "source": [
    "#fill the non-zeros part following the graph\n",
    "A₁[1,3]=1 ### hyperlink 3->1\n",
    "A₁[1,4]=1 ### hyperlink 4->1\n",
    "A₁[2,1]=1 ### hyperlink 1->2\n",
    "A₁[3,1]=1 ### hyperlink 1->3\n",
    "A₁[3,2]=1 ### hyperlink 2->3\n",
    "A₁[3,4]=1 ### hyperlink 4->3\n",
    "A₁[4,1]=1 ### hyperlink 1->4\n",
    "A₁[4,2]=1 ### hyperlink 2->4\n",
    "### All the other elements of A₁ are 0, as default.\n",
    "\n",
    "### Display A₁ in a sparse matrix format\n",
    "display(A₁)\n",
    "\n",
    "### Display A₁ in a dense matrix format\n",
    "display(Matrix(A₁))\n",
    "\n",
    "@info \"the number of non-zero elements is:\" nnz(A₁)\n",
    "@info \"the sparsity is:\" nnz(A₁)/(N*N)"
   ]
  },
  {
   "cell_type": "markdown",
   "id": "35e903e3-1c91-4c6e-a2ed-f057f28372d1",
   "metadata": {},
   "source": [
    "<a name='4'></a>\n",
    "## 4 - Reduce Adjacency Matrix to be Stochastic"
   ]
  },
  {
   "cell_type": "markdown",
   "id": "5d41bdd2-2dda-46c8-8f21-2be39f93a704",
   "metadata": {},
   "source": [
    "In general, a stochastic matrix is a matrix having column sums equal to 1. Reducing an adjacency matrix to a stochastic adjecency matrix adds a constraint which forces the uniqueness of problem to be solved.\n",
    "\n",
    "For $j$th column of a stochastic adjacency matrix, the sum of whose elements is 1, each element represents the probability of a hyperlink from the node $j$ to all the available webpages.\n",
    "\n",
    "A simple function which reduce an adjacency matrix to be stochastic is given as below:"
   ]
  },
  {
   "cell_type": "code",
   "execution_count": 4,
   "id": "11a057e8-3b79-409b-8d12-4d888ada3c1f",
   "metadata": {},
   "outputs": [
    {
     "data": {
      "text/plain": [
       "stochasticAdjMat (generic function with 1 method)"
      ]
     },
     "execution_count": 4,
     "metadata": {},
     "output_type": "execute_result"
    }
   ],
   "source": [
    "function stochasticAdjMat(A)\n",
    "    \"\"\"\n",
    "    Reduce a simple adjacency matrix to be stochastic.\n",
    "    \n",
    "    Arguments:\n",
    "    A -- a sparse matrix\n",
    "\n",
    "    Returns:\n",
    "    A -- a sparse matrix overwritten by the reduced stochastic matrix\n",
    "    \"\"\"\n",
    "    summation = sum(A, dims = 1)\n",
    "    for i = 1:size(A, 1)\n",
    "        if summation[i] != 0 \n",
    "            A[:,i] = A[:,i] ./ summation[i] \n",
    "        end\n",
    "    end\n",
    "    return A\n",
    "end"
   ]
  },
  {
   "cell_type": "code",
   "execution_count": 5,
   "id": "4d739232-300e-43f6-af1b-f6860ce9adcb",
   "metadata": {},
   "outputs": [
    {
     "data": {
      "text/plain": [
       "4×4 SparseMatrixCSC{Float64,Int64} with 8 stored entries:\n",
       "  [2, 1]  =  0.333333\n",
       "  [3, 1]  =  0.333333\n",
       "  [4, 1]  =  0.333333\n",
       "  [3, 2]  =  0.5\n",
       "  [4, 2]  =  0.5\n",
       "  [1, 3]  =  1.0\n",
       "  [1, 4]  =  0.5\n",
       "  [3, 4]  =  0.5"
      ]
     },
     "metadata": {},
     "output_type": "display_data"
    },
    {
     "data": {
      "text/plain": [
       "4×4 Array{Float64,2}:\n",
       " 0.0       0.0  1.0  0.5\n",
       " 0.333333  0.0  0.0  0.0\n",
       " 0.333333  0.5  0.0  0.5\n",
       " 0.333333  0.5  0.0  0.0"
      ]
     },
     "metadata": {},
     "output_type": "display_data"
    }
   ],
   "source": [
    "A₁ = stochasticAdjMat(A₁)\n",
    "\n",
    "### Display A₁ in a sparse matrix format\n",
    "display(A₁)\n",
    "\n",
    "### Display A₁ in a dense matrix format\n",
    "display(Matrix(A₁))"
   ]
  },
  {
   "cell_type": "markdown",
   "id": "1b4978a3-3655-4887-ac37-134e97411e5e",
   "metadata": {},
   "source": [
    "<a name='5'></a>\n",
    "## 5 - A simplified PageRank"
   ]
  },
  {
   "cell_type": "markdown",
   "id": "6ae9743d-c5ed-4e1d-a758-e40408508d47",
   "metadata": {},
   "source": [
    "PageRank can be computed either iteratively or algebraically. In this module, we only foucs on the iterative method.\n",
    "\n",
    "The iterative method can be viewed as the power iteration method, and the iterative process can be summarized as:\n",
    "\n",
    "1. At $t=0$, an initial probability distribution $V$ is randomly generated.\n",
    "2. At each time step, the computation, as detailed above, yields\n",
    "$$V_{t+1} = AV_{t} \\tag{2}$$\n",
    "    in which A is the generated schoatisc adjacency matrix.\n",
    "    \n",
    "3. The probability calculation is made for each page at a time point, then repeated for the next time point. The computation ends when for some small $\\epsilon$ \n",
    "$$|V_{t+1}-V_{t}| < \\epsilon$$\n",
    "    i.e, when convergence is assumed.\n",
    "    \n",
    "The most important kernel of this solver is $V_{t+1} = AV_{t}$, the Sparse Matrix Vector product operation. \n",
    "\n",
    "We provides a simple implementation of this solver as follows:"
   ]
  },
  {
   "cell_type": "code",
   "execution_count": 6,
   "id": "e0e50908-f451-4258-bda2-f07c3da3b441",
   "metadata": {},
   "outputs": [
    {
     "data": {
      "text/plain": [
       "simplepagerank (generic function with 1 method)"
      ]
     },
     "execution_count": 6,
     "metadata": {},
     "output_type": "execute_result"
    }
   ],
   "source": [
    "function simplepagerank(A; maxIter::Int=100, tol=0.001, verbosity=0)\n",
    "    \"\"\"\n",
    "    A first implementation of PageRank based on power iteration method.\n",
    "    \n",
    "    Arguments:\n",
    "    A -- a sparse matrix\n",
    "    \n",
    "    Optional:\n",
    "    maxIter -- maximum iterative steps before the convergence criteria is satisfied, default value is 100\n",
    "    tol -- the convergence criteria, default value is 0.001\n",
    "    verbosity -- if print the convergence steps (yes, if it is > 0), default value is 0\n",
    "\n",
    "    Returns:\n",
    "    v -- a probability vector which indicates the importance of all nodes.\n",
    "    \"\"\"    \n",
    "    # get size of matrix\n",
    "    N = size(A, 1)\n",
    "    # generate initial guess vector in random\n",
    "    v = rand(N) \n",
    "    # 1-normalization of initial guess vector\n",
    "    v = v ./ norm(v, 1)\n",
    "    iter = 1\n",
    "    while iter < maxIter\n",
    "        last_v = v\n",
    "        # SpMV\n",
    "        v = A * v\n",
    "        if verbosity > 0\n",
    "            msg = \"PageRank: step: $iter, ||last_v - v||₂: \"\n",
    "            msg *= @sprintf(\"%.12e\\n\", norm(last_v - v))\n",
    "            printstyled(msg, bold=false, color=:green)\n",
    "        end\n",
    "        #check the convergence\n",
    "        if norm(last_v - v) < tol\n",
    "            if verbosity > 0\n",
    "                msg = \"PageRank converged at step: $iter with ||last_v - v||₂: \"\n",
    "                msg *= @sprintf(\"%.12e\\n\", norm(last_v - v))\n",
    "                printstyled(msg, bold=false, color=:blue)\n",
    "            end\n",
    "            break\n",
    "        end\n",
    "        iter += 1\n",
    "    end\n",
    "    return v\n",
    "end"
   ]
  },
  {
   "cell_type": "markdown",
   "id": "975a7df7-cf94-48d2-ac12-f16665f14782",
   "metadata": {},
   "source": [
    "### Solve $A_1$ with PageRank"
   ]
  },
  {
   "cell_type": "code",
   "execution_count": 7,
   "id": "be8f4a5b-934c-4994-a75f-8506dfd6484f",
   "metadata": {},
   "outputs": [
    {
     "name": "stdout",
     "output_type": "stream",
     "text": [
      "\u001b[32mPageRank: step: 1, ||last_v - v||₂: 3.791365081515e-01\u001b[39m\n",
      "\u001b[32mPageRank: step: 2, ||last_v - v||₂: 2.950065802300e-01\u001b[39m\n",
      "\u001b[32mPageRank: step: 3, ||last_v - v||₂: 1.313841512645e-01\u001b[39m\n",
      "\u001b[32mPageRank: step: 4, ||last_v - v||₂: 4.436539787824e-02\u001b[39m\n",
      "\u001b[32mPageRank: step: 5, ||last_v - v||₂: 4.110614054561e-02\u001b[39m\n",
      "\u001b[32mPageRank: step: 6, ||last_v - v||₂: 2.677621877345e-02\u001b[39m\n",
      "\u001b[32mPageRank: step: 7, ||last_v - v||₂: 1.000992311642e-02\u001b[39m\n",
      "\u001b[32mPageRank: step: 8, ||last_v - v||₂: 4.444877774281e-03\u001b[39m\n",
      "\u001b[32mPageRank: step: 9, ||last_v - v||₂: 4.105436408205e-03\u001b[39m\n",
      "\u001b[32mPageRank: step: 10, ||last_v - v||₂: 2.256865099503e-03\u001b[39m\n",
      "\u001b[32mPageRank: step: 11, ||last_v - v||₂: 7.347285126340e-04\u001b[39m\n",
      "\u001b[32mPageRank: step: 12, ||last_v - v||₂: 4.826661827241e-04\u001b[39m\n",
      "\u001b[32mPageRank: step: 13, ||last_v - v||₂: 3.898039292391e-04\u001b[39m\n",
      "\u001b[32mPageRank: step: 14, ||last_v - v||₂: 1.806496792158e-04\u001b[39m\n",
      "\u001b[32mPageRank: step: 15, ||last_v - v||₂: 5.826153664130e-05\u001b[39m\n",
      "\u001b[34mPageRank converged at step: 15 with ||last_v - v||₂: 5.826153664130e-05\u001b[39m\n"
     ]
    }
   ],
   "source": [
    "v₁=simplepagerank(A₁; maxIter=100, tol=1e-4, verbosity=1);"
   ]
  },
  {
   "cell_type": "code",
   "execution_count": 8,
   "id": "a2cda975-422f-4deb-a912-fd8137510ca5",
   "metadata": {},
   "outputs": [
    {
     "data": {
      "text/plain": [
       "4-element Array{Float64,1}:\n",
       " 0.38711844698213177\n",
       " 0.12903794374540584\n",
       " 0.29030847795841186\n",
       " 0.19353513131405023"
      ]
     },
     "metadata": {},
     "output_type": "display_data"
    },
    {
     "name": "stderr",
     "output_type": "stream",
     "text": [
      "┌ Info: 0.9999999999999997\n",
      "└ @ Main In[8]:2\n"
     ]
    }
   ],
   "source": [
    "display(v₁)\n",
    "@info sum(v₁) "
   ]
  },
  {
   "cell_type": "markdown",
   "id": "55058700-b68d-4278-8125-b172be7f3afd",
   "metadata": {},
   "source": [
    "Question:\n",
    "> Which is the most and the least important webpage in Figure 2?\n",
    "\n",
    "Answer:\n",
    "> Webpage 1 and 2, respectively."
   ]
  },
  {
   "cell_type": "markdown",
   "id": "029e3c75-efef-4e25-88cc-561a56f2232d",
   "metadata": {},
   "source": [
    "### Hands-on"
   ]
  },
  {
   "cell_type": "markdown",
   "id": "8f7b772f-d242-42de-9c9b-6c767b7e0244",
   "metadata": {},
   "source": [
    "This hands-on is to find the importance of webpages on the webgraph below. Its objective is to get familiar with the process we introduced in this section.\n",
    "\n",
    "<center>\n",
    "<img src=\"../figs/graph1.png\" alt=\"centered image\">\n",
    "</center>\n",
    "<caption><center><font color='purple'><b>Figure 3</b>: Webgraph 2 </font></center></caption>"
   ]
  },
  {
   "cell_type": "code",
   "execution_count": 9,
   "id": "7beb4160-1133-4b4c-ba0d-5f9f47ed4f7c",
   "metadata": {},
   "outputs": [
    {
     "data": {
      "text/plain": [
       "5×5 SparseMatrixCSC{Float64,Int64} with 7 stored entries:\n",
       "  [2, 1]  =  1.0\n",
       "  [3, 1]  =  1.0\n",
       "  [4, 2]  =  1.0\n",
       "  [4, 3]  =  1.0\n",
       "  [5, 3]  =  1.0\n",
       "  [5, 4]  =  1.0\n",
       "  [1, 5]  =  1.0"
      ]
     },
     "metadata": {},
     "output_type": "display_data"
    },
    {
     "data": {
      "text/plain": [
       "5×5 Array{Float64,2}:\n",
       " 0.0  0.0  0.0  0.0  1.0\n",
       " 1.0  0.0  0.0  0.0  0.0\n",
       " 1.0  0.0  0.0  0.0  0.0\n",
       " 0.0  1.0  1.0  0.0  0.0\n",
       " 0.0  0.0  1.0  1.0  0.0"
      ]
     },
     "metadata": {},
     "output_type": "display_data"
    },
    {
     "name": "stderr",
     "output_type": "stream",
     "text": [
      "┌ Info: 5×5 SparseMatrixCSC{Float64,Int64} with 0 stored entries\n",
      "└ @ Main In[9]:6\n",
      "┌ Info: the number of non-zero elements is:\n",
      "│   nnz(A₂) = 7\n",
      "└ @ Main In[9]:22\n",
      "┌ Info: the sparsity is:\n",
      "│   nnz(A₂) / (N * N) = 0.28\n",
      "└ @ Main In[9]:23\n"
     ]
    }
   ],
   "source": [
    "#ToDo: Start\n",
    "# The number of nodes of the webgraph above is:\n",
    "N = 5\n",
    "# Create a empty Sparse Matrix object in Julia of size N*N\n",
    "A₂ = spzeros(Float64, N, N)\n",
    "@info A₂\n",
    "\n",
    "#fill the non-zeros part following the graph\n",
    "A₂[1,5]=1\n",
    "A₂[2,1]=1\n",
    "A₂[3,1]=1\n",
    "A₂[4,2]=1\n",
    "A₂[4,3]=1\n",
    "A₂[5,3]=1\n",
    "A₂[5,4]=1\n",
    "### Display A₁ in a sparse matrix format\n",
    "display(A₂)\n",
    "\n",
    "### Display A₁ in a dense matrix format\n",
    "display(Matrix(A₂))\n",
    "\n",
    "@info \"the number of non-zero elements is:\" nnz(A₂)\n",
    "@info \"the sparsity is:\" nnz(A₂)/(N*N)\n",
    "\n",
    "#ToDo: End"
   ]
  },
  {
   "cell_type": "code",
   "execution_count": 10,
   "id": "04035aca-0f93-45ee-aa5c-b5f4b6a211b9",
   "metadata": {},
   "outputs": [
    {
     "data": {
      "text/plain": [
       "5×5 SparseMatrixCSC{Float64,Int64} with 7 stored entries:\n",
       "  [2, 1]  =  0.5\n",
       "  [3, 1]  =  0.5\n",
       "  [4, 2]  =  1.0\n",
       "  [4, 3]  =  0.5\n",
       "  [5, 3]  =  0.5\n",
       "  [5, 4]  =  1.0\n",
       "  [1, 5]  =  1.0"
      ]
     },
     "execution_count": 10,
     "metadata": {},
     "output_type": "execute_result"
    }
   ],
   "source": [
    "#ToDo: Start\n",
    "#Reudce A₂ to be stochastic\n",
    "A₂ = stochasticAdjMat(A₂)\n",
    "#ToDo: End"
   ]
  },
  {
   "cell_type": "code",
   "execution_count": 11,
   "id": "8e6f4b6c-6ad5-4761-8b50-6def57163396",
   "metadata": {},
   "outputs": [
    {
     "name": "stdout",
     "output_type": "stream",
     "text": [
      "\u001b[32mPageRank: step: 1, ||last_v - v||₂: 5.614544189451e-01\u001b[39m\n",
      "\u001b[32mPageRank: step: 2, ||last_v - v||₂: 4.482287670260e-01\u001b[39m\n",
      "\u001b[32mPageRank: step: 3, ||last_v - v||₂: 4.015771180233e-01\u001b[39m\n",
      "\u001b[32mPageRank: step: 4, ||last_v - v||₂: 3.818077156438e-01\u001b[39m\n",
      "\u001b[32mPageRank: step: 5, ||last_v - v||₂: 3.491999008837e-01\u001b[39m\n",
      "\u001b[32mPageRank: step: 6, ||last_v - v||₂: 3.493088538199e-01\u001b[39m\n",
      "\u001b[32mPageRank: step: 7, ||last_v - v||₂: 2.971146066977e-01\u001b[39m\n",
      "\u001b[32mPageRank: step: 8, ||last_v - v||₂: 3.000754290359e-01\u001b[39m\n",
      "\u001b[32mPageRank: step: 9, ||last_v - v||₂: 2.572126764143e-01\u001b[39m\n",
      "\u001b[32mPageRank: step: 10, ||last_v - v||₂: 2.707003169256e-01\u001b[39m\n",
      "\u001b[32mPageRank: step: 11, ||last_v - v||₂: 2.237026097507e-01\u001b[39m\n",
      "\u001b[32mPageRank: step: 12, ||last_v - v||₂: 2.329448470486e-01\u001b[39m\n",
      "\u001b[32mPageRank: step: 13, ||last_v - v||₂: 1.947123214406e-01\u001b[39m\n",
      "\u001b[32mPageRank: step: 14, ||last_v - v||₂: 2.067226467735e-01\u001b[39m\n",
      "\u001b[32mPageRank: step: 15, ||last_v - v||₂: 1.725969810784e-01\u001b[39m\n",
      "\u001b[32mPageRank: step: 16, ||last_v - v||₂: 1.775155401612e-01\u001b[39m\n",
      "\u001b[32mPageRank: step: 17, ||last_v - v||₂: 1.517061098396e-01\u001b[39m\n",
      "\u001b[32mPageRank: step: 18, ||last_v - v||₂: 1.552343626270e-01\u001b[39m\n",
      "\u001b[32mPageRank: step: 19, ||last_v - v||₂: 1.360399231057e-01\u001b[39m\n",
      "\u001b[32mPageRank: step: 20, ||last_v - v||₂: 1.329704651265e-01\u001b[39m\n",
      "\u001b[32mPageRank: step: 21, ||last_v - v||₂: 1.204331777978e-01\u001b[39m\n",
      "\u001b[32mPageRank: step: 22, ||last_v - v||₂: 1.151089459139e-01\u001b[39m\n",
      "\u001b[32mPageRank: step: 23, ||last_v - v||₂: 1.082348083654e-01\u001b[39m\n",
      "\u001b[32mPageRank: step: 24, ||last_v - v||₂: 9.865507881521e-02\u001b[39m\n",
      "\u001b[32mPageRank: step: 25, ||last_v - v||₂: 9.591455868585e-02\u001b[39m\n",
      "\u001b[32mPageRank: step: 26, ||last_v - v||₂: 8.514264049802e-02\u001b[39m\n",
      "\u001b[32mPageRank: step: 27, ||last_v - v||₂: 8.573346027195e-02\u001b[39m\n",
      "\u001b[32mPageRank: step: 28, ||last_v - v||₂: 7.342885056513e-02\u001b[39m\n",
      "\u001b[32mPageRank: step: 29, ||last_v - v||₂: 7.562018773763e-02\u001b[39m\n",
      "\u001b[32mPageRank: step: 30, ||last_v - v||₂: 6.370017536811e-02\u001b[39m\n",
      "\u001b[32mPageRank: step: 31, ||last_v - v||₂: 6.693120832334e-02\u001b[39m\n",
      "\u001b[32mPageRank: step: 32, ||last_v - v||₂: 5.559062565939e-02\u001b[39m\n",
      "\u001b[32mPageRank: step: 33, ||last_v - v||₂: 5.856274032702e-02\u001b[39m\n",
      "\u001b[32mPageRank: step: 34, ||last_v - v||₂: 4.876023850404e-02\u001b[39m\n",
      "\u001b[32mPageRank: step: 35, ||last_v - v||₂: 5.125524803681e-02\u001b[39m\n",
      "\u001b[32mPageRank: step: 36, ||last_v - v||₂: 4.312104937830e-02\u001b[39m\n",
      "\u001b[32mPageRank: step: 37, ||last_v - v||₂: 4.445640129639e-02\u001b[39m\n",
      "\u001b[32mPageRank: step: 38, ||last_v - v||₂: 3.823947374202e-02\u001b[39m\n",
      "\u001b[32mPageRank: step: 39, ||last_v - v||₂: 3.852548004535e-02\u001b[39m\n",
      "\u001b[32mPageRank: step: 40, ||last_v - v||₂: 3.411878932145e-02\u001b[39m\n",
      "\u001b[32mPageRank: step: 41, ||last_v - v||₂: 3.319287982288e-02\u001b[39m\n",
      "\u001b[32mPageRank: step: 42, ||last_v - v||₂: 3.042174169791e-02\u001b[39m\n",
      "\u001b[32mPageRank: step: 43, ||last_v - v||₂: 2.859523244033e-02\u001b[39m\n",
      "\u001b[32mPageRank: step: 44, ||last_v - v||₂: 2.718410049516e-02\u001b[39m\n",
      "\u001b[32mPageRank: step: 45, ||last_v - v||₂: 2.459327508861e-02\u001b[39m\n",
      "\u001b[32mPageRank: step: 46, ||last_v - v||₂: 2.420096215417e-02\u001b[39m\n",
      "\u001b[32mPageRank: step: 47, ||last_v - v||₂: 2.119959012602e-02\u001b[39m\n",
      "\u001b[32mPageRank: step: 48, ||last_v - v||₂: 2.151594520352e-02\u001b[39m\n",
      "\u001b[32mPageRank: step: 49, ||last_v - v||₂: 1.832659579969e-02\u001b[39m\n",
      "\u001b[32mPageRank: step: 50, ||last_v - v||₂: 1.902351841477e-02\u001b[39m\n",
      "\u001b[32mPageRank: step: 51, ||last_v - v||₂: 1.592341113612e-02\u001b[39m\n",
      "\u001b[32mPageRank: step: 52, ||last_v - v||₂: 1.676078167407e-02\u001b[39m\n",
      "\u001b[32mPageRank: step: 53, ||last_v - v||₂: 1.392044402914e-02\u001b[39m\n",
      "\u001b[32mPageRank: step: 54, ||last_v - v||₂: 1.467868857548e-02\u001b[39m\n",
      "\u001b[32mPageRank: step: 55, ||last_v - v||₂: 1.224432946836e-02\u001b[39m\n",
      "\u001b[32mPageRank: step: 56, ||last_v - v||₂: 1.280127243273e-02\u001b[39m\n",
      "\u001b[32mPageRank: step: 57, ||last_v - v||₂: 1.083767814176e-02\u001b[39m\n",
      "\u001b[32mPageRank: step: 58, ||last_v - v||₂: 1.110527058831e-02\u001b[39m\n",
      "\u001b[32mPageRank: step: 59, ||last_v - v||₂: 9.634081662705e-03\u001b[39m\n",
      "\u001b[32mPageRank: step: 60, ||last_v - v||₂: 9.600753429471e-03\u001b[39m\n",
      "\u001b[32mPageRank: step: 61, ||last_v - v||₂: 8.593562048900e-03\u001b[39m\n",
      "\u001b[32mPageRank: step: 62, ||last_v - v||₂: 8.273051822935e-03\u001b[39m\n",
      "\u001b[32mPageRank: step: 63, ||last_v - v||₂: 7.671393635540e-03\u001b[39m\n",
      "\u001b[32mPageRank: step: 64, ||last_v - v||₂: 7.120220529181e-03\u001b[39m\n",
      "\u001b[32mPageRank: step: 65, ||last_v - v||₂: 6.846195907016e-03\u001b[39m\n",
      "\u001b[32mPageRank: step: 66, ||last_v - v||₂: 6.128101006365e-03\u001b[39m\n",
      "\u001b[32mPageRank: step: 67, ||last_v - v||₂: 6.094499959896e-03\u001b[39m\n",
      "\u001b[32mPageRank: step: 68, ||last_v - v||₂: 5.285631440299e-03\u001b[39m\n",
      "\u001b[32mPageRank: step: 69, ||last_v - v||₂: 5.408154869136e-03\u001b[39m\n",
      "\u001b[32mPageRank: step: 70, ||last_v - v||₂: 4.576384811003e-03\u001b[39m\n",
      "\u001b[32mPageRank: step: 71, ||last_v - v||₂: 4.777379679757e-03\u001b[39m\n",
      "\u001b[32mPageRank: step: 72, ||last_v - v||₂: 3.983615476937e-03\u001b[39m\n",
      "\u001b[32mPageRank: step: 73, ||last_v - v||₂: 4.200496327589e-03\u001b[39m\n",
      "\u001b[32mPageRank: step: 74, ||last_v - v||₂: 3.489413249759e-03\u001b[39m\n",
      "\u001b[32mPageRank: step: 75, ||last_v - v||₂: 3.674111321919e-03\u001b[39m\n",
      "\u001b[32mPageRank: step: 76, ||last_v - v||₂: 3.075772050343e-03\u001b[39m\n",
      "\u001b[32mPageRank: step: 77, ||last_v - v||₂: 3.198286402476e-03\u001b[39m\n",
      "\u001b[32mPageRank: step: 78, ||last_v - v||₂: 2.726535355428e-03\u001b[39m\n",
      "\u001b[32mPageRank: step: 79, ||last_v - v||₂: 2.771446495686e-03\u001b[39m\n",
      "\u001b[32mPageRank: step: 80, ||last_v - v||₂: 2.426984342962e-03\u001b[39m\n",
      "\u001b[32mPageRank: step: 81, ||last_v - v||₂: 2.393009232109e-03\u001b[39m\n",
      "\u001b[32mPageRank: step: 82, ||last_v - v||₂: 2.165747039692e-03\u001b[39m\n",
      "\u001b[32mPageRank: step: 83, ||last_v - v||₂: 2.061020694224e-03\u001b[39m\n",
      "\u001b[32mPageRank: step: 84, ||last_v - v||₂: 1.933609236626e-03\u001b[39m\n",
      "\u001b[32mPageRank: step: 85, ||last_v - v||₂: 1.773417391017e-03\u001b[39m\n",
      "\u001b[32mPageRank: step: 86, ||last_v - v||₂: 1.724429051234e-03\u001b[39m\n",
      "\u001b[32mPageRank: step: 87, ||last_v - v||₂: 1.527097392856e-03\u001b[39m\n",
      "\u001b[32mPageRank: step: 88, ||last_v - v||₂: 1.533766308838e-03\u001b[39m\n",
      "\u001b[32mPageRank: step: 89, ||last_v - v||₂: 1.318496844049e-03\u001b[39m\n",
      "\u001b[32mPageRank: step: 90, ||last_v - v||₂: 1.359124697813e-03\u001b[39m\n",
      "\u001b[32mPageRank: step: 91, ||last_v - v||₂: 1.143394161552e-03\u001b[39m\n",
      "\u001b[32mPageRank: step: 92, ||last_v - v||₂: 1.198888398849e-03\u001b[39m\n",
      "\u001b[32mPageRank: step: 93, ||last_v - v||₂: 9.972296076422e-04\u001b[39m\n",
      "\u001b[32mPageRank: step: 94, ||last_v - v||₂: 1.052344804660e-03\u001b[39m\n",
      "\u001b[32mPageRank: step: 95, ||last_v - v||₂: 8.753021001947e-04\u001b[39m\n",
      "\u001b[32mPageRank: step: 96, ||last_v - v||₂: 9.190419139437e-04\u001b[39m\n",
      "\u001b[32mPageRank: step: 97, ||last_v - v||₂: 7.730348903928e-04\u001b[39m\n",
      "\u001b[32mPageRank: step: 98, ||last_v - v||₂: 7.987872319558e-04\u001b[39m\n",
      "\u001b[32mPageRank: step: 99, ||last_v - v||₂: 6.862884671351e-04\u001b[39m\n"
     ]
    }
   ],
   "source": [
    "#ToDo: Start\n",
    "#Solve by PageRank\n",
    "v₂=simplepagerank(A₂; maxIter=100, tol=1e-4, verbosity=1);\n",
    "#ToDo: End"
   ]
  },
  {
   "cell_type": "code",
   "execution_count": 12,
   "id": "3567954c-b8ff-4047-b361-ce4433ad4246",
   "metadata": {},
   "outputs": [
    {
     "data": {
      "text/plain": [
       "5-element Array{Float64,1}:\n",
       " 0.26665309173680607\n",
       " 0.1335327641624679\n",
       " 0.1335327641624679\n",
       " 0.19996234577446031\n",
       " 0.26631903416379776"
      ]
     },
     "metadata": {},
     "output_type": "display_data"
    },
    {
     "name": "stderr",
     "output_type": "stream",
     "text": [
      "┌ Info: 1.0\n",
      "└ @ Main In[12]:2\n"
     ]
    }
   ],
   "source": [
    "display(v₂)\n",
    "@info sum(v₂) "
   ]
  },
  {
   "cell_type": "markdown",
   "id": "5dcfe35f-4b39-41ad-b5e8-cc6c01c389b2",
   "metadata": {},
   "source": [
    "Question:\n",
    "> Analyze the importance of different webpages.\n",
    "\n",
    "Answer:\n",
    "> Webpage 1 and 5 have similar and highest importance. Webpage 2 and 3 have similar and lowest importance. The importance of webpage 4 is in the middle."
   ]
  },
  {
   "cell_type": "markdown",
   "id": "7f3f82a3-a1eb-4323-ba98-dddc714c3abc",
   "metadata": {},
   "source": [
    "<a name='6'></a>\n",
    "## 6 - PageRank with Damping"
   ]
  },
  {
   "cell_type": "markdown",
   "id": "b7974c80-d5b8-46f5-a1a5-e027a256a907",
   "metadata": {},
   "source": [
    "The simplified PageRank doesn't always work. \n",
    "First, let's try to solve the problem formed by the webgraph below.\n",
    "\n",
    "<center>\n",
    "<img src=\"../figs/damping1.png\" alt=\"centered image\">\n",
    "</center>\n",
    "<caption><center><font color='purple'><b>Figure 4</b>: Webgraph 3 </font></center></caption>"
   ]
  },
  {
   "cell_type": "code",
   "execution_count": 13,
   "id": "c3637c72-c9bc-4962-88bf-6730afec87ae",
   "metadata": {},
   "outputs": [
    {
     "data": {
      "text/plain": [
       "6×6 SparseMatrixCSC{Float64,Int64} with 7 stored entries:\n",
       "  [3, 2]  =  1.0\n",
       "  [5, 2]  =  1.0\n",
       "  [1, 3]  =  1.0\n",
       "  [2, 4]  =  1.0\n",
       "  [5, 4]  =  1.0\n",
       "  [4, 5]  =  1.0\n",
       "  [3, 6]  =  1.0"
      ]
     },
     "metadata": {},
     "output_type": "display_data"
    },
    {
     "data": {
      "text/plain": [
       "6×6 Array{Float64,2}:\n",
       " 0.0  0.0  1.0  0.0  0.0  0.0\n",
       " 0.0  0.0  0.0  1.0  0.0  0.0\n",
       " 0.0  1.0  0.0  0.0  0.0  1.0\n",
       " 0.0  0.0  0.0  0.0  1.0  0.0\n",
       " 0.0  1.0  0.0  1.0  0.0  0.0\n",
       " 0.0  0.0  0.0  0.0  0.0  0.0"
      ]
     },
     "metadata": {},
     "output_type": "display_data"
    },
    {
     "name": "stderr",
     "output_type": "stream",
     "text": [
      "┌ Info: 6×6 SparseMatrixCSC{Float64,Int64} with 0 stored entries\n",
      "└ @ Main In[13]:5\n",
      "┌ Info: the number of non-zero elements is:\n",
      "│   nnz(A₃) = 7\n",
      "└ @ Main In[13]:21\n"
     ]
    },
    {
     "name": "stdout",
     "output_type": "stream",
     "text": [
      "\u001b[32mPageRank: step: 1, ||last_v - v||₂: 4.818770154095e-01\u001b[39m\n",
      "\u001b[32mPageRank: step: 2, ||last_v - v||₂: 3.154336417104e-01\u001b[39m\n",
      "\u001b[32mPageRank: step: 3, ||last_v - v||₂: 3.023471251847e-01\u001b[39m\n",
      "\u001b[32mPageRank: step: 4, ||last_v - v||₂: 6.891095342518e-02\u001b[39m\n",
      "\u001b[32mPageRank: step: 5, ||last_v - v||₂: 4.436004648708e-02\u001b[39m\n",
      "\u001b[32mPageRank: step: 6, ||last_v - v||₂: 2.932296202954e-02\u001b[39m\n",
      "\u001b[32mPageRank: step: 7, ||last_v - v||₂: 1.760930212096e-02\u001b[39m\n",
      "\u001b[32mPageRank: step: 8, ||last_v - v||₂: 1.410458495028e-02\u001b[39m\n",
      "\u001b[32mPageRank: step: 9, ||last_v - v||₂: 9.595594996062e-03\u001b[39m\n",
      "\u001b[32mPageRank: step: 10, ||last_v - v||₂: 9.005558090092e-03\u001b[39m\n",
      "\u001b[32mPageRank: step: 11, ||last_v - v||₂: 7.721841152730e-03\u001b[39m\n",
      "\u001b[32mPageRank: step: 12, ||last_v - v||₂: 6.734832115393e-03\u001b[39m\n",
      "\u001b[32mPageRank: step: 13, ||last_v - v||₂: 6.050246221997e-03\u001b[39m\n",
      "\u001b[32mPageRank: step: 14, ||last_v - v||₂: 5.269670320279e-03\u001b[39m\n",
      "\u001b[32mPageRank: step: 15, ||last_v - v||₂: 4.698964036021e-03\u001b[39m\n",
      "\u001b[32mPageRank: step: 16, ||last_v - v||₂: 4.144867129473e-03\u001b[39m\n",
      "\u001b[32mPageRank: step: 17, ||last_v - v||₂: 3.666320656693e-03\u001b[39m\n",
      "\u001b[32mPageRank: step: 18, ||last_v - v||₂: 3.246986447208e-03\u001b[39m\n",
      "\u001b[32mPageRank: step: 19, ||last_v - v||₂: 2.869291930224e-03\u001b[39m\n",
      "\u001b[32mPageRank: step: 20, ||last_v - v||₂: 2.540040456277e-03\u001b[39m\n",
      "\u001b[32mPageRank: step: 21, ||last_v - v||₂: 2.246383200597e-03\u001b[39m\n",
      "\u001b[32mPageRank: step: 22, ||last_v - v||₂: 1.987341078940e-03\u001b[39m\n",
      "\u001b[32mPageRank: step: 23, ||last_v - v||₂: 1.758201129836e-03\u001b[39m\n",
      "\u001b[32mPageRank: step: 24, ||last_v - v||₂: 1.555266088237e-03\u001b[39m\n",
      "\u001b[32mPageRank: step: 25, ||last_v - v||₂: 1.375935728654e-03\u001b[39m\n",
      "\u001b[32mPageRank: step: 26, ||last_v - v||₂: 1.217183292996e-03\u001b[39m\n",
      "\u001b[32mPageRank: step: 27, ||last_v - v||₂: 1.076784378350e-03\u001b[39m\n",
      "\u001b[32mPageRank: step: 28, ||last_v - v||₂: 9.525755767271e-04\u001b[39m\n",
      "\u001b[32mPageRank: step: 29, ||last_v - v||₂: 8.426880116867e-04\u001b[39m\n",
      "\u001b[32mPageRank: step: 30, ||last_v - v||₂: 7.454838826216e-04\u001b[39m\n",
      "\u001b[32mPageRank: step: 31, ||last_v - v||₂: 6.594878999090e-04\u001b[39m\n",
      "\u001b[32mPageRank: step: 32, ||last_v - v||₂: 5.834139442023e-04\u001b[39m\n",
      "\u001b[32mPageRank: step: 33, ||last_v - v||₂: 5.161149206031e-04\u001b[39m\n",
      "\u001b[32mPageRank: step: 34, ||last_v - v||₂: 4.565789470762e-04\u001b[39m\n",
      "\u001b[32mPageRank: step: 35, ||last_v - v||₂: 4.039109463511e-04\u001b[39m\n",
      "\u001b[32mPageRank: step: 36, ||last_v - v||₂: 3.573182036885e-04\u001b[39m\n",
      "\u001b[32mPageRank: step: 37, ||last_v - v||₂: 3.161002099445e-04\u001b[39m\n",
      "\u001b[32mPageRank: step: 38, ||last_v - v||₂: 2.796368384320e-04\u001b[39m\n",
      "\u001b[32mPageRank: step: 39, ||last_v - v||₂: 2.473796558944e-04\u001b[39m\n",
      "\u001b[32mPageRank: step: 40, ||last_v - v||₂: 2.188434717021e-04\u001b[39m\n",
      "\u001b[32mPageRank: step: 41, ||last_v - v||₂: 1.935990375552e-04\u001b[39m\n",
      "\u001b[32mPageRank: step: 42, ||last_v - v||₂: 1.712666498246e-04\u001b[39m\n",
      "\u001b[32mPageRank: step: 43, ||last_v - v||₂: 1.515103867031e-04\u001b[39m\n",
      "\u001b[32mPageRank: step: 44, ||last_v - v||₂: 1.340330843011e-04\u001b[39m\n",
      "\u001b[32mPageRank: step: 45, ||last_v - v||₂: 1.185718558077e-04\u001b[39m\n",
      "\u001b[32mPageRank: step: 46, ||last_v - v||₂: 1.048941388263e-04\u001b[39m\n",
      "\u001b[32mPageRank: step: 47, ||last_v - v||₂: 9.279419897914e-05\u001b[39m\n",
      "\u001b[34mPageRank converged at step: 47 with ||last_v - v||₂: 9.279419897914e-05\u001b[39m\n"
     ]
    },
    {
     "name": "stderr",
     "output_type": "stream",
     "text": [
      "┌ Info: the sparsity is:\n",
      "│   nnz(A₃) / (N * N) = 0.19444444444444445\n",
      "└ @ Main In[13]:22\n"
     ]
    }
   ],
   "source": [
    "# The number of nodes of the webgraph above is:\n",
    "N = 6\n",
    "# Create a empty Sparse Matrix object in Julia of size N*N\n",
    "A₃ = spzeros(Float64, N, N)\n",
    "@info A₃\n",
    "\n",
    "#fill the non-zeros part following the graph\n",
    "A₃[1,3]=1\n",
    "A₃[3,6]=1\n",
    "A₃[3,2]=1\n",
    "A₃[2,4]=1\n",
    "A₃[5,2]=1\n",
    "A₃[5,4]=1\n",
    "A₃[4,5]=1\n",
    "### Display A₁ in a sparse matrix format\n",
    "display(A₃)\n",
    "\n",
    "### Display A₁ in a dense matrix format\n",
    "display(Matrix(A₃))\n",
    "\n",
    "@info \"the number of non-zero elements is:\" nnz(A₃)\n",
    "@info \"the sparsity is:\" nnz(A₃)/(N*N)\n",
    "\n",
    "#Reudce A₂ to be stochastic\n",
    "A₃ = stochasticAdjMat(A₃)\n",
    "\n",
    "#Solve by PageRank\n",
    "v₃=simplepagerank(A₃; maxIter=100, tol=1e-4, verbosity=1);"
   ]
  },
  {
   "cell_type": "code",
   "execution_count": 14,
   "id": "5a9883ef-3eef-41b9-9dbb-478a470ffe43",
   "metadata": {},
   "outputs": [
    {
     "data": {
      "text/plain": [
       "6-element Array{Float64,1}:\n",
       " 0.00016818746244512346\n",
       " 0.0002632466323228875\n",
       " 0.0001487863956655266\n",
       " 0.0004657602537761767\n",
       " 0.0004120330279884141\n",
       " 0.0"
      ]
     },
     "metadata": {},
     "output_type": "display_data"
    },
    {
     "name": "stderr",
     "output_type": "stream",
     "text": [
      "┌ Info: 0.0014580137721981283\n",
      "└ @ Main In[14]:2\n"
     ]
    }
   ],
   "source": [
    "display(v₃)\n",
    "@info sum(v₃) "
   ]
  },
  {
   "cell_type": "markdown",
   "id": "559a5b0e-8c4f-4092-8e41-82cd9e3e3352",
   "metadata": {},
   "source": [
    "A quick conclusion:\n",
    "\n",
    "> Obviously, the simplified PageRank FAILED!!! The sum of the elementals of $V_3$ is not $1$ anymore.\n",
    "\n",
    "This is due to the \"spider traps\" of some webpages (4 and 5 in Figure 4), in which random walk gets \"stuck\" in a \"trap\". This trap absorbs the importance.\n",
    "\n",
    "From a point of view of linear algebra, this matrix $A_3$ is singluar, which makes power iteration method fail to find its largest eigenvalue. This can be verified by printing the eigenvalues of $A_3$ as follows."
   ]
  },
  {
   "cell_type": "code",
   "execution_count": 24,
   "id": "fa55f963-6648-4dcf-a95c-42b0a9b7eefc",
   "metadata": {},
   "outputs": [
    {
     "name": "stderr",
     "output_type": "stream",
     "text": [
      "┌ Info: Complex{Float64}[-0.4423230885596581 - 0.29487140251110283im, -0.4423230885596581 + 0.29487140251110283im, 0.0 + 0.0im, 0.0 + 0.0im, 0.0 + 0.0im, 0.8846461771193158 + 0.0im]\n",
      "└ @ Main In[24]:2\n"
     ]
    }
   ],
   "source": [
    "#try to output the eigenvalues of A₃\n",
    "@info eigen!(Matrix(A₃)).values"
   ]
  },
  {
   "cell_type": "markdown",
   "id": "11bf45ab-49a1-42f6-ba18-b9b5db321a99",
   "metadata": {},
   "source": [
    "### Introduce a Damping factor\n",
    "The Google's solution for this issue is introducing a damping factor $\\beta$. \n",
    "\n",
    "So a \"rank score\" $r_j$ of a webpage $j$ with a damping factor is defined as:\n",
    "$$r_j = \\sum_{i\\rightarrow j}\\beta\\frac{r_i}{d_i}+(1-\\beta)\\frac{1}{N} \\tag{3}$$  in which $N$ is the node number in the webgraph."
   ]
  },
  {
   "cell_type": "code",
   "execution_count": 26,
   "id": "09243619-8808-467e-a8b9-611afffaabfd",
   "metadata": {},
   "outputs": [
    {
     "name": "stderr",
     "output_type": "stream",
     "text": [
      "┌ Info: Complex{Float64}[-0.3247233450542245 - 0.2267205237312798im, -0.3247233450542245 + 0.2267205237312798im, -0.14731813974792557 - 0.18243075741912598im, -0.14731813974792557 + 0.18243075741912598im, 0.3327939541859674 + 0.0im, 0.8612890154183332 + 0.0im]\n",
      "└ @ Main In[26]:5\n"
     ]
    }
   ],
   "source": [
    "#try with different damping factor\n",
    "damping = 0.75\n",
    "#The new adjacency matrix with damping\n",
    "Ad = damping * A₃ .+ (1-damping) / N\n",
    "#Ad isn't singular anymore\n",
    "@info eigen!(Matrix(Ad)).values"
   ]
  },
  {
   "cell_type": "markdown",
   "id": "8d0d6e91-e585-43e7-afe4-4a8446e6162f",
   "metadata": {},
   "source": [
    "A quick conclusion:\n",
    "> This $Ad$ is not singular anymore.\n",
    "\n",
    "We give the implementation of PageRank with damping factor as follows:"
   ]
  },
  {
   "cell_type": "code",
   "execution_count": 27,
   "id": "88f3524b-87f4-4227-874d-ae6c8e352493",
   "metadata": {},
   "outputs": [],
   "source": [
    "function pagerank(A; maxIter::Int = 100, damping = 0.85, tol=0.001, verbosity=0)\n",
    "    \n",
    "    \"\"\"\n",
    "    A first implementation of PageRank based on power iteration method.\n",
    "    \n",
    "    Arguments:\n",
    "    A -- a sparse matrix\n",
    "    \n",
    "    Optional:\n",
    "    maxIter -- maximum iterative steps before the convergence criteria is satisfied, default value is 100\n",
    "    damping -- damping factor, default value is 0.85\n",
    "    tol -- the convergence criteria, default value is 0.001\n",
    "    verbosity -- if print the convergence steps (yes, if it is > 0), default value is 0\n",
    "\n",
    "    Returns:\n",
    "    v -- a probability vector which indicates the importance of all nodes.\n",
    "    \"\"\"  \n",
    "    \n",
    "    N = size(A, 1)\n",
    "    v = rand(N) \n",
    "    v = v ./ norm(v, 1)\n",
    "    iter = 1\n",
    "    while iter < maxIter\n",
    "        last_v = v\n",
    "        #The first part of this operation is SpMV. The second\n",
    "        #part is BLAS1 operation, which is cheap\n",
    "        v = damping * A * v .+ ((1 - damping) / N) * sum(v)\n",
    "        if verbosity > 0\n",
    "            msg = \"PageRank: step: $iter, ||last_v - v||₂: \"\n",
    "            msg *= @sprintf(\"%.12e\\n\", norm(last_v - v))\n",
    "            printstyled(msg, bold=false, color=:green)\n",
    "        end\n",
    "        if norm(last_v - v) < tol\n",
    "            if verbosity > 0\n",
    "                msg = \"PageRank converged at step: $iter with ||last_v - v||₂: \"\n",
    "                msg *= @sprintf(\"%.12e\\n\", norm(last_v - v))\n",
    "                printstyled(msg, bold=false, color=:blue)\n",
    "            end\n",
    "            break\n",
    "        end\n",
    "        iter += 1\n",
    "    end\n",
    "    return v\n",
    "end"
   ]
  },
  {
   "cell_type": "code",
   "execution_count": 41,
   "id": "348a9a5c-fd55-4f21-9bf6-81eff2b89d04",
   "metadata": {},
   "outputs": [
    {
     "data": {
      "text/plain": [
       "6-element Array{Float64,1}:\n",
       " 0.02205059932814741\n",
       " 0.021536841885443577\n",
       " 0.018366073394847894\n",
       " 0.03568030594581422\n",
       " 0.03217324164566185\n",
       " 0.003887710088602348"
      ]
     },
     "metadata": {},
     "output_type": "display_data"
    },
    {
     "name": "stderr",
     "output_type": "stream",
     "text": [
      "┌ Info: 0.13369477228851728\n",
      "└ @ Main In[41]:6\n"
     ]
    }
   ],
   "source": [
    "#ToDo: Start\n",
    "#Compute the PageRank vector of A₃, considering the damping constant\n",
    "#to be successively 0, 0.15,0.5, 0.85, and 1\n",
    "v₃=pagerank(A₃; maxIter=100, damping = 0.85, tol=1e-2, verbosity=0);\n",
    "display(v₃)\n",
    "@info sum(v₃)\n",
    "#ToDo: End"
   ]
  },
  {
   "cell_type": "markdown",
   "id": "b3258d34-c526-4293-a725-d074ccb982ba",
   "metadata": {},
   "source": [
    "Question:\n",
    "> Which is the best damping factor among $0$, $0.15$, $0.5$, $0.85$ and $1$?\n",
    "\n",
    "Answer:\n",
    "> 0.85."
   ]
  },
  {
   "cell_type": "markdown",
   "id": "e75db238-8a29-4203-bec0-94a17ceb2e63",
   "metadata": {},
   "source": [
    "### Webgraph with dead ends\n",
    "\n",
    "The simplified PageRank doesn't always work. \n",
    "First, let's try to solve the problem formed by the webgraph below.\n",
    "\n",
    "<center>\n",
    "<img src=\"../figs/damping2.png\" alt=\"centered image\">\n",
    "</center>\n",
    "<caption><center><font color='purple'><b>Figure 5</b>: Webgraph 4 </font></center></caption>\n",
    "\n",
    "#### First try with the simplified PageRank"
   ]
  },
  {
   "cell_type": "code",
   "execution_count": 57,
   "id": "dad82879-2495-4a06-a7ab-b97beda28dc7",
   "metadata": {},
   "outputs": [
    {
     "data": {
      "text/plain": [
       "8×8 SparseMatrixCSC{Float64,Int64} with 7 stored entries:\n",
       "  [1, 2]  =  1.0\n",
       "  [1, 3]  =  1.0\n",
       "  [2, 4]  =  1.0\n",
       "  [2, 5]  =  1.0\n",
       "  [3, 6]  =  1.0\n",
       "  [3, 7]  =  1.0\n",
       "  [3, 8]  =  1.0"
      ]
     },
     "metadata": {},
     "output_type": "display_data"
    },
    {
     "data": {
      "text/plain": [
       "8×8 Array{Float64,2}:\n",
       " 0.0  1.0  1.0  0.0  0.0  0.0  0.0  0.0\n",
       " 0.0  0.0  0.0  1.0  1.0  0.0  0.0  0.0\n",
       " 0.0  0.0  0.0  0.0  0.0  1.0  1.0  1.0\n",
       " 0.0  0.0  0.0  0.0  0.0  0.0  0.0  0.0\n",
       " 0.0  0.0  0.0  0.0  0.0  0.0  0.0  0.0\n",
       " 0.0  0.0  0.0  0.0  0.0  0.0  0.0  0.0\n",
       " 0.0  0.0  0.0  0.0  0.0  0.0  0.0  0.0\n",
       " 0.0  0.0  0.0  0.0  0.0  0.0  0.0  0.0"
      ]
     },
     "metadata": {},
     "output_type": "display_data"
    },
    {
     "name": "stdout",
     "output_type": "stream",
     "text": [
      "\u001b[32mPageRank: step: 1, ||last_v - v||₂: 3.281614794662e-01\u001b[39m\n",
      "\u001b[32mPageRank: step: 2, ||last_v - v||₂: 4.098479134069e-01\u001b[39m\n",
      "\u001b[32mPageRank: step: 3, ||last_v - v||₂: 5.002291243574e-01\u001b[39m\n",
      "\u001b[32mPageRank: step: 4, ||last_v - v||₂: 0.000000000000e+00\u001b[39m\n",
      "\u001b[34mPageRank converged at step: 4 with ||last_v - v||₂: 0.000000000000e+00\u001b[39m\n"
     ]
    },
    {
     "name": "stderr",
     "output_type": "stream",
     "text": [
      "┌ Info: the number of non-zero elements is:\n",
      "│   nnz(A₄) = 7\n",
      "└ @ Main In[57]:17\n",
      "┌ Info: the sparsity is:\n",
      "│   nnz(A₄) / (N * N) = 0.109375\n",
      "└ @ Main In[57]:18\n"
     ]
    }
   ],
   "source": [
    "N = 8\n",
    "A₄ = spzeros(Float64,N,N)\n",
    "A₄[1,2]=1\n",
    "A₄[1,3]=1\n",
    "A₄[2,4]=1\n",
    "A₄[2,5]=1\n",
    "A₄[3,6]=1\n",
    "A₄[3,7]=1\n",
    "A₄[3,8]=1\n",
    "    \n",
    "### Display A₄ in a sparse matrix format\n",
    "display(A₄)\n",
    "\n",
    "### Display A₄ in a dense matrix format\n",
    "display(Matrix(A₄))\n",
    "\n",
    "@info \"the number of non-zero elements is:\" nnz(A₄)\n",
    "@info \"the sparsity is:\" nnz(A₄)/(N*N)\n",
    "\n",
    "#Reudce A₄ to be stochastic\n",
    "A₄ = stochasticAdjMat(A₄)\n",
    "\n",
    "#Solve by PageRank\n",
    "v₄=simplepagerank(A₄; maxIter=100, tol=1e-4, verbosity=1);"
   ]
  },
  {
   "cell_type": "code",
   "execution_count": 58,
   "id": "fda33278-5cb3-4fea-8a85-b014cffb91ba",
   "metadata": {},
   "outputs": [],
   "source": [
    "@info sum(v₄)\n",
    "display(v₄)"
   ]
  },
  {
   "cell_type": "markdown",
   "id": "42a07142-0bae-49e1-8444-96e3f7c9f28f",
   "metadata": {},
   "source": [
    "A quick conclusion:\n",
    "\n",
    "> Once again, the simplified PageRank FAILED!!! \n",
    "\n",
    "This is due to the \"dead ends\" of some webpages (4, 5, 6, 7 and 8 in Figure 4), in which random walk has \"nowhere to go\". This causes the \"leak\" of the importance.\n",
    "\n",
    "#### Try with the PageRank with Damping factor"
   ]
  },
  {
   "cell_type": "code",
   "execution_count": 66,
   "id": "e6a84c69-082b-4d23-860e-2514582aa503",
   "metadata": {},
   "outputs": [
    {
     "data": {
      "text/plain": [
       "8-element Array{Float64,1}:\n",
       " 0.00951417192831204\n",
       " 0.0023673659111011942\n",
       " 0.003246484001124535\n",
       " 0.0006091297310545125\n",
       " 0.0006091297310545125\n",
       " 0.0006091297310545125\n",
       " 0.0006091297310545125\n",
       " 0.0006091297310545125"
      ]
     },
     "metadata": {},
     "output_type": "display_data"
    },
    {
     "name": "stdout",
     "output_type": "stream",
     "text": [
      "\u001b[32mPageRank: step: 1, ||last_v - v||₂: 3.836249294731e-01\u001b[39m\n",
      "\u001b[32mPageRank: step: 2, ||last_v - v||₂: 3.621787578628e-01\u001b[39m\n",
      "\u001b[32mPageRank: step: 3, ||last_v - v||₂: 3.769389938581e-01\u001b[39m\n",
      "\u001b[32mPageRank: step: 4, ||last_v - v||₂: 3.663860883898e-02\u001b[39m\n",
      "\u001b[32mPageRank: step: 5, ||last_v - v||₂: 4.216498784823e-02\u001b[39m\n",
      "\u001b[32mPageRank: step: 6, ||last_v - v||₂: 3.356975342306e-02\u001b[39m\n",
      "\u001b[32mPageRank: step: 7, ||last_v - v||₂: 1.161534651692e-02\u001b[39m\n",
      "\u001b[32mPageRank: step: 8, ||last_v - v||₂: 8.167205094753e-03\u001b[39m\n",
      "\u001b[34mPageRank converged at step: 8 with ||last_v - v||₂: 8.167205094753e-03\u001b[39m\n"
     ]
    },
    {
     "name": "stderr",
     "output_type": "stream",
     "text": [
      "┌ Info: 0.01817367049581033\n",
      "└ @ Main In[66]:5\n"
     ]
    }
   ],
   "source": [
    "#ToDo: Start\n",
    "#Try with damping factor 0.85\n",
    "v₄=pagerank(A₄; damping = 0.85, tol=1e-2, verbosity=1)\n",
    "#ToDo: End\n",
    "@info sum(v₄)\n",
    "display(v₄)"
   ]
  },
  {
   "cell_type": "markdown",
   "id": "03488dee-9ec5-412b-880b-702fbec4812a",
   "metadata": {},
   "source": [
    "Question:\n",
    "> Interpret your results in terms of the relationship between the number of incoming links that each node has and its rank.\n",
    "\n",
    "Answer:\n",
    "> For nodes numbering 4, 5, 6, 7 and 8, they all have no incoming links, and they share a same rank $0.0006091297310545125$. Node numbering 2 has two incoming links. Node numbering 3 has three incoming links ($1.5\\times$Node 2). This is consistent with its rank, in which the rank of node 3 is also $1.5\\times$ of the rank of node 2. Node 1 has the largest rank, since all other links are finally directed to it. "
   ]
  },
  {
   "cell_type": "code",
   "execution_count": null,
   "id": "89176ba5-bff8-4365-9d47-bdfa9761d195",
   "metadata": {},
   "outputs": [],
   "source": []
  }
 ],
 "metadata": {
  "kernelspec": {
   "display_name": "Julia 1.4.2",
   "language": "julia",
   "name": "julia-1.4"
  },
  "language_info": {
   "file_extension": ".jl",
   "mimetype": "application/julia",
   "name": "julia",
   "version": "1.4.2"
  }
 },
 "nbformat": 4,
 "nbformat_minor": 5
}
