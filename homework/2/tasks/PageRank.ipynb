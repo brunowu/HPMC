{
 "cells": [
  {
   "cell_type": "markdown",
   "id": "f29051be-ad90-434e-ba84-9eaf2fdcc3bd",
   "metadata": {},
   "source": [
    "# Sparse Matrix Application: PageRank Algorithm \n",
    "\n",
    "Welcome to the second homework for the high-performance computation of sparse matrices! In this work, you'll try to mesure the importance of webpages through a power iteration method.\n",
    "\n",
    "By the end of this homework, you are expected to be able to:\n",
    "\n",
    "- Construct sparse adjacency matrices starting from a given directed graph of webpages\n",
    "- Reduce constructed adjacency matrix to be stochastic\n",
    "- Solve the PageRank problem through power iteration method whose kernel is Sparse Matrix Vector operation (SpMV)\n",
    "- Understand the impact of dampling factor"
   ]
  },
  {
   "cell_type": "markdown",
   "id": "a5c7dc0c-b57b-4c92-9105-7f9de46639eb",
   "metadata": {},
   "source": [
    "## Table of Contents\n",
    "- [1 - Packages](#1)\n",
    "- [2 - Problem Statement](#2)\n",
    "- [3 - Construct Adjacency Matrix](#3)\n",
    "- [4 - Reduce Adjacency Matrix to be Stochastic](#4)\n",
    "- [5 - A simple PageRank](#5)\n",
    "- [6 - PageRank with Damping](#6)"
   ]
  },
  {
   "cell_type": "markdown",
   "id": "cd1adb43-1cb4-4217-ab81-83f921cc0ec8",
   "metadata": {},
   "source": [
    "<a name='1'></a>\n",
    "## 1 - Packages"
   ]
  },
  {
   "cell_type": "code",
   "execution_count": null,
   "id": "f2a8afdf-376e-4146-9224-a7ee297fb67c",
   "metadata": {},
   "outputs": [],
   "source": [
    "using LinearAlgebra\n",
    "using SparseArrays\n",
    "using Printf\n",
    "using Random\n",
    "using BenchmarkTools\n",
    "import Plots"
   ]
  },
  {
   "cell_type": "markdown",
   "id": "14710342-428c-4fcf-95dc-cbb0f2c3c588",
   "metadata": {},
   "source": [
    "<a name='2'></a>\n",
    "## 2 - Problem Statement"
   ]
  },
  {
   "cell_type": "markdown",
   "id": "556c8027-ed67-4a28-a27e-d117f39eccc8",
   "metadata": {},
   "source": [
    "PageRank (PR) is an algorithm used by Google Search to rank web pages in their search engine results, which is a way of measuring the importance of website pages. \n",
    "\n",
    "According to Wikipedia:\n",
    "> PageRank works by counting the number and quality of links to a page to determine a rough estimate of how important the website is. The underlying assumption is that more important websites are likely to receive more links from other websites. [[1]](https://en.wikipedia.org/wiki/PageRank)\n",
    "\n",
    "PageRank is introduced by the co-founder of Google [Larray Page](https://en.wikipedia.org/wiki/Larry_Page). It is named after both the term of \"web page\" and the last name of Larray Page. PageRank is the first and one of the best known algorithm that was used by Google.\n",
    "\n",
    "The figure below is a simple example of webgraph which shows the relations of 5 different webpages as a directed graph:\n",
    "- Nodes: webpages\n",
    "- Edges: hyperlinks\n",
    "- Weights: vote from one link to another"
   ]
  },
  {
   "cell_type": "markdown",
   "id": "4c40be89-7583-46b5-be90-b5a9335db9c4",
   "metadata": {},
   "source": [
    "<center>\n",
    "<img src=\"../figs/simplegraph.png\" alt=\"centered image\">\n",
    "</center>\n",
    "<caption><center><font color='purple'><b>Figure 1</b>: a simple Webgraph </font></center></caption>"
   ]
  },
  {
   "cell_type": "markdown",
   "id": "e13f0d01-f977-4b89-8f33-2af4b4a30d5e",
   "metadata": {},
   "source": [
    "Not all web pages are equally \"important\". For example:\n",
    "\n",
    "- https://www.bbc.com (BBC)\n",
    "\n",
    "vs\n",
    "\n",
    "- https://brunowu.github.io (My personal webpage)\n",
    "\n",
    "There is a large diversity in the web-graph node connectivity, and the idea of PageRank is to rank pages by their link structure (webgraph). \n",
    "\n",
    "Roughly saying, the idea behand is\n",
    "> Links as votes\n",
    "\n",
    "Page is more important if it has more in-links. And the votes for all links in the webpage can be determined with a recursive step.\n",
    "\n",
    "A \"rank score\" $r_j$ of a webpage $j$\n",
    "$$r_j = \\sum_{i\\rightarrow j}\\frac{r_i}{d_i} \\tag{1}$$\n",
    "\n",
    "in which $i$ represents the indices of all webpages which are linked to the webpage $j$, and $d_i$ refers to the degree of out-links of the webpage $i$. \n",
    "\n",
    "In the next section, we will at first construct a matrix describing the webgraph."
   ]
  },
  {
   "cell_type": "markdown",
   "id": "8cd70f8e-41d2-4b30-8055-6a36b8cdbe20",
   "metadata": {},
   "source": [
    "<a name='3'></a>\n",
    "## 3 - Construct Adjacency Matrix"
   ]
  },
  {
   "cell_type": "markdown",
   "id": "189de44b-1f5d-4ebc-bc41-68b20d143493",
   "metadata": {},
   "source": [
    "An adjacency matrix is a square matrix used to represent a finite graph. The elements of the matrix indicate whether pairs of vertices are adjacent or not in the graph. For a simple graph, the adjacency matrix is a (0,1)-matrix with its elements either being 1 or 0. \n",
    "\n",
    "The objective of this section is to construct this simple adjacency matrix for the webgraph given as below:\n",
    "\n",
    "<center>\n",
    "<img src=\"../figs/graph2.png\" alt=\"centered image\">\n",
    "</center>\n",
    "<caption><center><font color='purple'><b>Figure 2</b>: Webgraph 1 </font></center></caption>"
   ]
  },
  {
   "cell_type": "markdown",
   "id": "a172a5cf-14c8-4a5c-ae2b-eb85276df623",
   "metadata": {},
   "source": [
    "### Initialization"
   ]
  },
  {
   "cell_type": "code",
   "execution_count": null,
   "id": "3c153d10-e41e-4199-88f6-f1889d9e158c",
   "metadata": {},
   "outputs": [],
   "source": [
    "# The number of nodes of the webgraph above is:\n",
    "N = 4\n",
    "# Create a empty Sparse Matrix object in Julia of size N*N\n",
    "A₁ = spzeros(Float64, N, N)\n",
    "@info A₁"
   ]
  },
  {
   "cell_type": "markdown",
   "id": "70ebf86b-066f-44fc-8211-a81d906c900e",
   "metadata": {},
   "source": [
    "### Construction\n",
    "For a adjacency matrix $M$, its element $M_{ij}$ refers the connection of hyperlink from the node $j$ to the node $i$. If $M_{ij}=0$, it means that there is no connection from the node $j$ to $i$, and if $M_{ij}=1$, it refers to an existence of hyperlink from the node $j$ to $i$."
   ]
  },
  {
   "cell_type": "code",
   "execution_count": null,
   "id": "c9f0f030-27a5-4239-a2cf-eb0dffff996c",
   "metadata": {},
   "outputs": [],
   "source": [
    "#fill the non-zeros part following the graph\n",
    "A₁[1,3]=1 ### hyperlink 3->1\n",
    "A₁[1,4]=1 ### hyperlink 4->1\n",
    "A₁[2,1]=1 ### hyperlink 1->2\n",
    "A₁[3,1]=1 ### hyperlink 1->3\n",
    "A₁[3,2]=1 ### hyperlink 2->3\n",
    "A₁[3,4]=1 ### hyperlink 4->3\n",
    "A₁[4,1]=1 ### hyperlink 1->4\n",
    "A₁[4,2]=1 ### hyperlink 2->4\n",
    "### All the other elements of A₁ are 0, as default.\n",
    "\n",
    "### Display A₁ in a sparse matrix format\n",
    "display(A₁)\n",
    "\n",
    "### Display A₁ in a dense matrix format\n",
    "display(Matrix(A₁))\n",
    "\n",
    "@info \"the number of non-zero elements is:\" nnz(A₁)\n",
    "@info \"the sparsity is:\" nnz(A₁)/(N*N)"
   ]
  },
  {
   "cell_type": "markdown",
   "id": "35e903e3-1c91-4c6e-a2ed-f057f28372d1",
   "metadata": {},
   "source": [
    "<a name='4'></a>\n",
    "## 4 - Reduce Adjacency Matrix to be Stochastic"
   ]
  },
  {
   "cell_type": "markdown",
   "id": "5d41bdd2-2dda-46c8-8f21-2be39f93a704",
   "metadata": {},
   "source": [
    "In general, a stochastic matrix is a matrix having column sums equal to 1. Reducing an adjacency matrix to a stochastic adjecency matrix adds a constraint which forces the uniqueness of problem to be solved.\n",
    "\n",
    "For $j$th column of a stochastic adjacency matrix, the sum of whose elements is 1, each element represents the probability of a hyperlink from the node $j$ to all the available webpages.\n",
    "\n",
    "A simple function which reduce an adjacency matrix to be stochastic is given as below:"
   ]
  },
  {
   "cell_type": "code",
   "execution_count": null,
   "id": "11a057e8-3b79-409b-8d12-4d888ada3c1f",
   "metadata": {},
   "outputs": [],
   "source": [
    "function stochasticAdjMat(A)\n",
    "    \"\"\"\n",
    "    Reduce a simple adjacency matrix to be stochastic.\n",
    "    \n",
    "    Arguments:\n",
    "    A -- a sparse matrix\n",
    "\n",
    "    Returns:\n",
    "    A -- a sparse matrix overwritten by the reduced stochastic matrix\n",
    "    \"\"\"\n",
    "    summation = sum(A, dims = 1)\n",
    "    for i = 1:size(A, 1)\n",
    "        if summation[i] != 0 \n",
    "            A[:,i] = A[:,i] ./ summation[i] \n",
    "        end\n",
    "    end\n",
    "    return A\n",
    "end"
   ]
  },
  {
   "cell_type": "code",
   "execution_count": null,
   "id": "4d739232-300e-43f6-af1b-f6860ce9adcb",
   "metadata": {},
   "outputs": [],
   "source": [
    "A₁ = stochasticAdjMat(A₁)\n",
    "\n",
    "### Display A₁ in a sparse matrix format\n",
    "display(A₁)\n",
    "\n",
    "### Display A₁ in a dense matrix format\n",
    "display(Matrix(A₁))"
   ]
  },
  {
   "cell_type": "markdown",
   "id": "1b4978a3-3655-4887-ac37-134e97411e5e",
   "metadata": {},
   "source": [
    "<a name='5'></a>\n",
    "## 5 - A simplified PageRank"
   ]
  },
  {
   "cell_type": "markdown",
   "id": "6ae9743d-c5ed-4e1d-a758-e40408508d47",
   "metadata": {},
   "source": [
    "PageRank can be computed either iteratively or algebraically. In this module, we only foucs on the iterative method.\n",
    "\n",
    "The iterative method can be viewed as the power iteration method, and the iterative process can be summarized as:\n",
    "\n",
    "1. At $t=0$, an initial probability distribution $V$ is randomly generated.\n",
    "2. At each time step, the computation, as detailed above, yields\n",
    "$$V_{t+1} = AV_{t} \\tag{2}$$\n",
    "    in which A is the generated schoatisc adjacency matrix.\n",
    "    \n",
    "3. The probability calculation is made for each page at a time point, then repeated for the next time point. The computation ends when for some small $\\epsilon$ \n",
    "$$|V_{t+1}-V_{t}| < \\epsilon$$\n",
    "    i.e, when convergence is assumed.\n",
    "    \n",
    "The most important kernel of this solver is $V_{t+1} = AV_{t}$, the Sparse Matrix Vector product operation. \n",
    "\n",
    "We provides a simple implementation of this solver as follows:"
   ]
  },
  {
   "cell_type": "code",
   "execution_count": null,
   "id": "e0e50908-f451-4258-bda2-f07c3da3b441",
   "metadata": {},
   "outputs": [],
   "source": [
    "function simplepagerank(A; maxIter::Int=100, tol=0.001, verbosity=0)\n",
    "    \"\"\"\n",
    "    A first implementation of PageRank based on power iteration method.\n",
    "    \n",
    "    Arguments:\n",
    "    A -- a sparse matrix\n",
    "    \n",
    "    Optional:\n",
    "    maxIter -- maximum iterative steps before the convergence criteria is satisfied, default value is 100\n",
    "    tol -- the convergence criteria, default value is 0.001\n",
    "    verbosity -- if print the convergence steps (yes, if it is > 0), default value is 0\n",
    "\n",
    "    Returns:\n",
    "    v -- a probability vector which indicates the importance of all nodes.\n",
    "    \"\"\"    \n",
    "    # get size of matrix\n",
    "    N = size(A, 1)\n",
    "    # generate initial guess vector in random\n",
    "    v = rand(N) \n",
    "    # 1-normalization of initial guess vector\n",
    "    v = v ./ norm(v, 1)\n",
    "    iter = 1\n",
    "    while iter < maxIter\n",
    "        last_v = v\n",
    "        # SpMV\n",
    "        v = A * v\n",
    "        if verbosity > 0\n",
    "            msg = \"PageRank: step: $iter, ||last_v - v||₂: \"\n",
    "            msg *= @sprintf(\"%.12e\\n\", norm(last_v - v))\n",
    "            printstyled(msg, bold=false, color=:green)\n",
    "        end\n",
    "        #check the convergence\n",
    "        if norm(last_v - v) < tol\n",
    "            if verbosity > 0\n",
    "                msg = \"PageRank converged at step: $iter with ||last_v - v||₂: \"\n",
    "                msg *= @sprintf(\"%.12e\\n\", norm(last_v - v))\n",
    "                printstyled(msg, bold=false, color=:blue)\n",
    "            end\n",
    "            break\n",
    "        end\n",
    "        iter += 1\n",
    "    end\n",
    "    return v\n",
    "end"
   ]
  },
  {
   "cell_type": "markdown",
   "id": "975a7df7-cf94-48d2-ac12-f16665f14782",
   "metadata": {},
   "source": [
    "### Solve $A_1$ with PageRank"
   ]
  },
  {
   "cell_type": "code",
   "execution_count": null,
   "id": "be8f4a5b-934c-4994-a75f-8506dfd6484f",
   "metadata": {},
   "outputs": [],
   "source": [
    "v₁=simplepagerank(A₁; maxIter=100, tol=1e-4, verbosity=1);"
   ]
  },
  {
   "cell_type": "code",
   "execution_count": null,
   "id": "a2cda975-422f-4deb-a912-fd8137510ca5",
   "metadata": {},
   "outputs": [],
   "source": [
    "display(v₁)\n",
    "@info sum(v₁) "
   ]
  },
  {
   "cell_type": "markdown",
   "id": "55058700-b68d-4278-8125-b172be7f3afd",
   "metadata": {},
   "source": [
    "Question:\n",
    "> Which is the most and the least important webpage in Figure 2?\n",
    "\n",
    "Answer:\n",
    "> Write your answer here."
   ]
  },
  {
   "cell_type": "markdown",
   "id": "029e3c75-efef-4e25-88cc-561a56f2232d",
   "metadata": {},
   "source": [
    "### Hands-on"
   ]
  },
  {
   "cell_type": "markdown",
   "id": "8f7b772f-d242-42de-9c9b-6c767b7e0244",
   "metadata": {},
   "source": [
    "This hands-on is to find the importance of webpages on the webgraph below. Its objective is to get familiar with the process we introduced in this section.\n",
    "\n",
    "<center>\n",
    "<img src=\"../figs/graph1.png\" alt=\"centered image\">\n",
    "</center>\n",
    "<caption><center><font color='purple'><b>Figure 3</b>: Webgraph 2 </font></center></caption>"
   ]
  },
  {
   "cell_type": "code",
   "execution_count": null,
   "id": "7beb4160-1133-4b4c-ba0d-5f9f47ed4f7c",
   "metadata": {},
   "outputs": [],
   "source": [
    "#ToDo: Start\n",
    "# The number of nodes of the webgraph above is:\n",
    "N = ?\n",
    "# Create a empty Sparse Matrix object in Julia of size N*N\n",
    "A₂ = spzeros(Float64, N, N)\n",
    "@info A₂\n",
    "\n",
    "#fill the non-zeros part following the graph\n",
    "A₂[?,?]=?\n",
    "\n",
    "### Display A₂ in a sparse matrix format\n",
    "display(A₂)\n",
    "\n",
    "### Display A₂ in a dense matrix format\n",
    "display(Matrix(A₂))\n",
    "\n",
    "@info \"the number of non-zero elements is:\" nnz(A₂)\n",
    "@info \"the sparsity is:\" nnz(A₂)/(N*N)\n",
    "\n",
    "#ToDo: End"
   ]
  },
  {
   "cell_type": "code",
   "execution_count": null,
   "id": "04035aca-0f93-45ee-aa5c-b5f4b6a211b9",
   "metadata": {},
   "outputs": [],
   "source": [
    "#ToDo: Start\n",
    "#Reudce A₂ to be stochastic\n",
    "\n",
    "#Put your code here\n",
    "\n",
    "#ToDo: End"
   ]
  },
  {
   "cell_type": "code",
   "execution_count": null,
   "id": "8e6f4b6c-6ad5-4761-8b50-6def57163396",
   "metadata": {},
   "outputs": [],
   "source": [
    "#ToDo: Start\n",
    "#Solve by simplified PageRank\n",
    "\n",
    "#Put your code here\n",
    "\n",
    "#ToDo: End"
   ]
  },
  {
   "cell_type": "code",
   "execution_count": null,
   "id": "3567954c-b8ff-4047-b361-ce4433ad4246",
   "metadata": {},
   "outputs": [],
   "source": [
    "display(v₂)\n",
    "@info sum(v₂) "
   ]
  },
  {
   "cell_type": "markdown",
   "id": "5dcfe35f-4b39-41ad-b5e8-cc6c01c389b2",
   "metadata": {},
   "source": [
    "Question:\n",
    "> Analyze the importance of different webpages.\n",
    "\n",
    "Answer:\n",
    "> Write your answer here."
   ]
  },
  {
   "cell_type": "markdown",
   "id": "7f3f82a3-a1eb-4323-ba98-dddc714c3abc",
   "metadata": {},
   "source": [
    "<a name='6'></a>\n",
    "## 6 - PageRank with Damping"
   ]
  },
  {
   "cell_type": "markdown",
   "id": "b7974c80-d5b8-46f5-a1a5-e027a256a907",
   "metadata": {},
   "source": [
    "The simplified PageRank doesn't always work. \n",
    "First, let's try to solve the problem formed by the webgraph below.\n",
    "\n",
    "<center>\n",
    "<img src=\"../figs/damping1.png\" alt=\"centered image\">\n",
    "</center>\n",
    "<caption><center><font color='purple'><b>Figure 4</b>: Webgraph 3 </font></center></caption>"
   ]
  },
  {
   "cell_type": "code",
   "execution_count": null,
   "id": "c3637c72-c9bc-4962-88bf-6730afec87ae",
   "metadata": {},
   "outputs": [],
   "source": [
    "# The number of nodes of the webgraph above is:\n",
    "N = 6\n",
    "# Create a empty Sparse Matrix object in Julia of size N*N\n",
    "A₃ = spzeros(Float64, N, N)\n",
    "@info A₃\n",
    "\n",
    "#fill the non-zeros part following the graph\n",
    "A₃[1,3]=1\n",
    "A₃[3,6]=1\n",
    "A₃[3,2]=1\n",
    "A₃[2,4]=1\n",
    "A₃[5,2]=1\n",
    "A₃[5,4]=1\n",
    "A₃[4,5]=1\n",
    "### Display A₃ in a sparse matrix format\n",
    "display(A₃)\n",
    "\n",
    "### Display A₃ in a dense matrix format\n",
    "display(Matrix(A₃))\n",
    "\n",
    "@info \"the number of non-zero elements is:\" nnz(A₃)\n",
    "@info \"the sparsity is:\" nnz(A₃)/(N*N)\n",
    "\n",
    "#Reudce A₂ to be stochastic\n",
    "A₃ = stochasticAdjMat(A₃)\n",
    "\n",
    "#Solve by PageRank\n",
    "v₃=simplepagerank(A₃; maxIter=100, tol=1e-4, verbosity=1);"
   ]
  },
  {
   "cell_type": "code",
   "execution_count": null,
   "id": "5a9883ef-3eef-41b9-9dbb-478a470ffe43",
   "metadata": {},
   "outputs": [],
   "source": [
    "display(v₃)\n",
    "@info sum(v₃) "
   ]
  },
  {
   "cell_type": "markdown",
   "id": "559a5b0e-8c4f-4092-8e41-82cd9e3e3352",
   "metadata": {},
   "source": [
    "A quick conclusion:\n",
    "\n",
    "> Obviously, the simplified PageRank FAILED!!! The sum of the elementals of $V_3$ is not $1$ anymore.\n",
    "\n",
    "This is due to the \"spider traps\" of some webpages (4 and 5 in Figure 4), in which random walk gets \"stuck\" in a \"trap\". This trap absorbs the importance.\n",
    "\n",
    "From a point of view of linear algebra, this matrix $A_3$ is singluar, which makes power iteration method fail to find its largest eigenvalue. This can be verified by printing the eigenvalues of $A_3$ as follows."
   ]
  },
  {
   "cell_type": "code",
   "execution_count": null,
   "id": "fa55f963-6648-4dcf-a95c-42b0a9b7eefc",
   "metadata": {},
   "outputs": [],
   "source": [
    "#try to output the eigenvalues of A₃\n",
    "@info eigen!(Matrix(A₃)).values"
   ]
  },
  {
   "cell_type": "markdown",
   "id": "11bf45ab-49a1-42f6-ba18-b9b5db321a99",
   "metadata": {},
   "source": [
    "### Introduce a Damping factor\n",
    "The Google's solution for this issue is introducing a damping factor $\\beta$. \n",
    "\n",
    "So a \"rank score\" $r_j$ of a webpage $j$ with a damping factor is defined as:\n",
    "$$r_j = \\sum_{i\\rightarrow j}\\beta\\frac{r_i}{d_i}+(1-\\beta)\\frac{1}{N} \\tag{3}$$  in which $N$ is the node number in the webgraph."
   ]
  },
  {
   "cell_type": "code",
   "execution_count": null,
   "id": "09243619-8808-467e-a8b9-611afffaabfd",
   "metadata": {},
   "outputs": [],
   "source": [
    "#try with different damping factor\n",
    "damping = 0.75\n",
    "#The new adjacency matrix with damping\n",
    "Ad = damping * A₃ .+ (1-damping) / N\n",
    "#Ad isn't singular anymore\n",
    "@info eigen!(Matrix(Ad)).values"
   ]
  },
  {
   "cell_type": "markdown",
   "id": "8d0d6e91-e585-43e7-afe4-4a8446e6162f",
   "metadata": {},
   "source": [
    "A quick conclusion:\n",
    "> This $Ad$ is not singular anymore.\n",
    "\n",
    "We give the implementation of PageRank with damping factor as follows:"
   ]
  },
  {
   "cell_type": "code",
   "execution_count": null,
   "id": "88f3524b-87f4-4227-874d-ae6c8e352493",
   "metadata": {},
   "outputs": [],
   "source": [
    "function pagerank(A; maxIter::Int = 100, damping = 0.85, tol=0.001, verbosity=0)\n",
    "    \n",
    "    \"\"\"\n",
    "    A first implementation of PageRank based on power iteration method.\n",
    "    \n",
    "    Arguments:\n",
    "    A -- a sparse matrix\n",
    "    \n",
    "    Optional:\n",
    "    maxIter -- maximum iterative steps before the convergence criteria is satisfied, default value is 100\n",
    "    damping -- damping factor, default value is 0.85\n",
    "    tol -- the convergence criteria, default value is 0.001\n",
    "    verbosity -- if print the convergence steps (yes, if it is > 0), default value is 0\n",
    "\n",
    "    Returns:\n",
    "    v -- a probability vector which indicates the importance of all nodes.\n",
    "    \"\"\"  \n",
    "    \n",
    "    N = size(A, 1)\n",
    "    v = rand(N) \n",
    "    v = v ./ norm(v, 1)\n",
    "    iter = 1\n",
    "    while iter < maxIter\n",
    "        last_v = v\n",
    "        #The first part of this operation is SpMV. The second\n",
    "        #part is BLAS1 operation, which is cheap\n",
    "        v = damping * A * v .+ ((1 - damping) / N) * sum(v)\n",
    "        if verbosity > 0\n",
    "            msg = \"PageRank: step: $iter, ||last_v - v||₂: \"\n",
    "            msg *= @sprintf(\"%.12e\\n\", norm(last_v - v))\n",
    "            printstyled(msg, bold=false, color=:green)\n",
    "        end\n",
    "        if norm(last_v - v) < tol\n",
    "            if verbosity > 0\n",
    "                msg = \"PageRank converged at step: $iter with ||last_v - v||₂: \"\n",
    "                msg *= @sprintf(\"%.12e\\n\", norm(last_v - v))\n",
    "                printstyled(msg, bold=false, color=:blue)\n",
    "            end\n",
    "            break\n",
    "        end\n",
    "        iter += 1\n",
    "    end\n",
    "    return v\n",
    "end"
   ]
  },
  {
   "cell_type": "code",
   "execution_count": null,
   "id": "348a9a5c-fd55-4f21-9bf6-81eff2b89d04",
   "metadata": {},
   "outputs": [],
   "source": [
    "#ToDo: Start\n",
    "#Compute the PageRank vector of A₃, considering the damping constant\n",
    "#to be successively 0, 0.15,0.5, 0.85, and 1\n",
    "\n",
    "#put your code here\n",
    "\n",
    "#ToDo: End"
   ]
  },
  {
   "cell_type": "markdown",
   "id": "b3258d34-c526-4293-a725-d074ccb982ba",
   "metadata": {},
   "source": [
    "Question:\n",
    "> Which is the best damping factor among $0$, $0.15$, $0.5$, $0.85$ and $1$?\n",
    "\n",
    "Answer:\n",
    "> Write your answer here."
   ]
  },
  {
   "cell_type": "markdown",
   "id": "e75db238-8a29-4203-bec0-94a17ceb2e63",
   "metadata": {},
   "source": [
    "### Webgraph with dead ends\n",
    "\n",
    "The simplified PageRank doesn't always work. \n",
    "First, let's try to solve the problem formed by the webgraph below.\n",
    "\n",
    "<center>\n",
    "<img src=\"../figs/damping2.png\" alt=\"centered image\">\n",
    "</center>\n",
    "<caption><center><font color='purple'><b>Figure 5</b>: Webgraph 4 </font></center></caption>\n",
    "\n",
    "#### First try with the simplified PageRank"
   ]
  },
  {
   "cell_type": "code",
   "execution_count": null,
   "id": "dad82879-2495-4a06-a7ab-b97beda28dc7",
   "metadata": {},
   "outputs": [],
   "source": [
    "N = 8\n",
    "A₄ = spzeros(Float64,N,N)\n",
    "A₄[1,2]=1\n",
    "A₄[1,3]=1\n",
    "A₄[2,4]=1\n",
    "A₄[2,5]=1\n",
    "A₄[3,6]=1\n",
    "A₄[3,7]=1\n",
    "A₄[3,8]=1\n",
    "    \n",
    "### Display A₄ in a sparse matrix format\n",
    "display(A₄)\n",
    "\n",
    "### Display A₄ in a dense matrix format\n",
    "display(Matrix(A₄))\n",
    "\n",
    "@info \"the number of non-zero elements is:\" nnz(A₄)\n",
    "@info \"the sparsity is:\" nnz(A₄)/(N*N)\n",
    "\n",
    "#Reudce A₄ to be stochastic\n",
    "A₄ = stochasticAdjMat(A₄)\n",
    "\n",
    "#Solve by PageRank\n",
    "v₄=simplepagerank(A₄; maxIter=100, tol=1e-4, verbosity=1);"
   ]
  },
  {
   "cell_type": "code",
   "execution_count": null,
   "id": "fda33278-5cb3-4fea-8a85-b014cffb91ba",
   "metadata": {},
   "outputs": [],
   "source": [
    "@info sum(v₄)\n",
    "display(v₄)"
   ]
  },
  {
   "cell_type": "markdown",
   "id": "42a07142-0bae-49e1-8444-96e3f7c9f28f",
   "metadata": {},
   "source": [
    "A quick conclusion:\n",
    "\n",
    "> Once again, the simplified PageRank FAILED!!! \n",
    "\n",
    "This is due to the \"dead ends\" of some webpages (4, 5, 6, 7 and 8 in Figure 4), in which random walk has \"nowhere to go\". This causes the \"leak\" of the importance.\n",
    "\n",
    "#### Try with the PageRank with Damping factor"
   ]
  },
  {
   "cell_type": "code",
   "execution_count": null,
   "id": "e6a84c69-082b-4d23-860e-2514582aa503",
   "metadata": {},
   "outputs": [],
   "source": [
    "#ToDo: Start\n",
    "#Try with damping factor 0.85\n",
    "\n",
    "#put your code here.\n",
    "\n",
    "#ToDo: End\n",
    "@info sum(v₄)\n",
    "display(v₄)"
   ]
  },
  {
   "cell_type": "markdown",
   "id": "03488dee-9ec5-412b-880b-702fbec4812a",
   "metadata": {},
   "source": [
    "Question:\n",
    "> Interpret your results in terms of the relationship between the number of incoming links that each node has and its rank.\n",
    "\n",
    "Answer:\n",
    "> Write your answer here. "
   ]
  },
  {
   "cell_type": "code",
   "execution_count": null,
   "id": "89176ba5-bff8-4365-9d47-bdfa9761d195",
   "metadata": {},
   "outputs": [],
   "source": []
  }
 ],
 "metadata": {
  "kernelspec": {
   "display_name": "Julia 1.4.2",
   "language": "julia",
   "name": "julia-1.4"
  },
  "language_info": {
   "file_extension": ".jl",
   "mimetype": "application/julia",
   "name": "julia",
   "version": "1.4.2"
  }
 },
 "nbformat": 4,
 "nbformat_minor": 5
}
